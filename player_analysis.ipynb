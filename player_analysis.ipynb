{
 "cells": [
  {
   "cell_type": "code",
   "execution_count": 1,
   "metadata": {},
   "outputs": [],
   "source": [
    "# Get all Title Tuesday results over last year\n",
    "import requests\n",
    "import requests\n",
    "from bs4 import BeautifulSoup\n",
    "import re\n",
    "\n",
    "links = []\n",
    "for each in range(10):\n",
    "\n",
    "    r = requests.get(f'https://www.chess.com/tournament/live/titled-tuesdays?&page={each}')\n",
    "    soup = BeautifulSoup(r.content, 'html.parser')\n",
    "    elements = soup.find_all('a',class_='tournaments-live-name')\n",
    "    for every in elements:\n",
    "        link  = every.get('href')\n",
    "        links.append(link)\n",
    "ids = [each.split('/')[-1] for each in links]\n"
   ]
  },
  {
   "cell_type": "code",
   "execution_count": 2,
   "metadata": {},
   "outputs": [
    {
     "name": "stderr",
     "output_type": "stream",
     "text": [
      "100%|██████████| 175/175 [00:55<00:00,  3.14it/s]\n"
     ]
    }
   ],
   "source": [
    "import requests\n",
    "import pandas as pd\n",
    "import tqdm\n",
    "\n",
    "def get_game(id):\n",
    "    headers = {\n",
    "        'User-Agent': 'Mozilla/5.0 (Windows NT 10.0; Win64; x64) AppleWebKit/537.36 (KHTML, like Gecko) Chrome/58.0.3029.110 Safari/537.3'\n",
    "    }\n",
    "\n",
    "    response = requests.get(f'https://api.chess.com/pub/tournament/{id}', headers=headers)\n",
    "    game = response.json()\n",
    "    return game\n",
    "\n",
    "def single_tournament(game):\n",
    "    df = pd.DataFrame(game['players'])\n",
    "    df['position'] = range(1, len(df) + 1)\n",
    "    df['date'] = game['finish_time']\n",
    "    return df\n",
    "\n",
    "dfs = []\n",
    "for each in tqdm.tqdm(ids):\n",
    "    game = get_game(each)\n",
    "    df = single_tournament(game)\n",
    "    dfs.append(df)\n",
    "\n",
    "# Concatenate DataFrames vertically\n",
    "final_df = pd.concat(dfs, ignore_index=True)\n"
   ]
  },
  {
   "cell_type": "code",
   "execution_count": 3,
   "metadata": {},
   "outputs": [],
   "source": [
    "transformed = final_df.groupby('username').agg({'position':'mean', 'date':'count'}).reset_index().sort_values('position')\n",
    "best_titled_players = transformed.loc[transformed.date > 1].username.values\n"
   ]
  },
  {
   "cell_type": "code",
   "execution_count": 9,
   "metadata": {},
   "outputs": [],
   "source": [
    "player = 'magnuscarlsen'\n",
    "\n",
    "def get_titled_tournaments_player(player):\n",
    "    headers = {\n",
    "        'User-Agent': 'Mozilla/5.0 (Windows NT 10.0; Win64; x64) AppleWebKit/537.36 (KHTML, like Gecko) Chrome/58.0.3029.110 Safari/537.3'\n",
    "    }\n",
    "    response = requests.get(f'https://api.chess.com/pub/player/{player}/tournaments', headers=headers).json()\n",
    "    return response\n",
    "def players_perfomance(tournaments):\n",
    "    placements = []\n",
    "    for each in tournaments['finished']:\n",
    "        if ('late-titled' in each['@id']) | ('early-titled' in each['@id']):\n",
    "            try:\n",
    "                placements.append({'id': each['@id'], 'place': each['placement']})\n",
    "            except:\n",
    "                pass\n",
    "    df = pd.DataFrame(placements)\n",
    "    df['player'] = player\n",
    "    df = df.loc[df.place< 200]\n",
    "\n",
    "    return df\n",
    "\n",
    "tournaments = get_titled_tournaments_player(player)\n",
    "df = players_perfomance(tournaments)\n"
   ]
  },
  {
   "cell_type": "code",
   "execution_count": 10,
   "metadata": {},
   "outputs": [
    {
     "name": "stderr",
     "output_type": "stream",
     "text": [
      "100%|██████████| 387/387 [02:15<00:00,  2.85it/s]\n"
     ]
    }
   ],
   "source": [
    "results_df = []\n",
    "for player in tqdm.tqdm(best_titled_players):\n",
    "    tournaments = get_titled_tournaments_player(player)\n",
    "    df = players_perfomance(tournaments)\n",
    "    results_df.append(df)\n"
   ]
  },
  {
   "cell_type": "code",
   "execution_count": 11,
   "metadata": {},
   "outputs": [],
   "source": [
    "final_results_df = pd.concat(results_df, ignore_index=True)\n",
    "over_30_games_players = final_results_df.groupby('player').agg({'id':'count'}).reset_index().query('id > 30').player.values\n",
    "over_30_games_players_df = final_results_df.loc[final_results_df['player'].isin(over_30_games_players)]\n"
   ]
  },
  {
   "cell_type": "code",
   "execution_count": 12,
   "metadata": {},
   "outputs": [
    {
     "name": "stderr",
     "output_type": "stream",
     "text": [
      "100%|██████████| 133/133 [00:43<00:00,  3.03it/s]\n"
     ]
    }
   ],
   "source": [
    "def get_name(player):\n",
    "    headers = {\n",
    "        'User-Agent': 'Mozilla/5.0 (Windows NT 10.0; Win64; x64) AppleWebKit/537.36 (KHTML, like Gecko) Chrome/58.0.3029.110 Safari/537.3'\n",
    "    }\n",
    "    response = requests.get(f' https://api.chess.com/pub/player/{player}', headers=headers).json()\n",
    "    return response\n",
    "\n",
    "player_names = []\n",
    "for player in tqdm.tqdm(over_30_games_players):\n",
    "    try:\n",
    "        name = get_name(player)['name']\n",
    "        player_names.append({'player':player, 'name':name})\n",
    "    except:\n",
    "        pass\n"
   ]
  },
  {
   "cell_type": "code",
   "execution_count": 13,
   "metadata": {},
   "outputs": [
    {
     "data": {
      "text/plain": [
       "[{'player': 'abund', 'name': 'Yuan, Qingyu'},\n",
       " {'player': 'actorxu', 'name': 'Xu Yi'},\n",
       " {'player': 'alexei_gubajdullin', 'name': 'Alexei Gubajdullin'},\n",
       " {'player': 'alexpapasimakopoulos', 'name': 'Alexandros Papasimakopoulos'},\n",
       " {'player': 'alexrustemov', 'name': 'Alexander Rustemov'},\n",
       " {'player': 'anton_demchenko', 'name': 'Anton Demchenko'},\n",
       " {'player': 'aradhya2000', 'name': 'Aradhya Garg'},\n",
       " {'player': 'artin10862', 'name': 'Artin Ashraf'},\n",
       " {'player': 'aryantari', 'name': 'Aryan Tari'},\n",
       " {'player': 'arystanner', 'name': 'Arystanbek Urazayev'},\n",
       " {'player': 'atbenina64', 'name': 'Abtin Atakhan'},\n",
       " {'player': 'attack2mateu', 'name': 'Razvan Preotu'},\n",
       " {'player': 'avitalbor', 'name': 'Avital Boruchovsky'},\n",
       " {'player': 'aygehovit1992', 'name': 'Nikita Matinian'},\n",
       " {'player': 'baki83', 'name': 'Etienne Bacrot'},\n",
       " {'player': 'bazar-wokzal', 'name': 'Nikolai Vlassov'},\n",
       " {'player': 'beanscreen', 'name': 'Zachary Tanenbaum'},\n",
       " {'player': 'beca95', 'name': 'Aleksandar Indjic'},\n",
       " {'player': 'bigfish1995', 'name': 'Vladimir Fedoseev'},\n",
       " {'player': 'billiekimbah', 'name': 'Maxim Matlakov'},\n",
       " {'player': 'blitzking1729', 'name': 'Srihari L R'},\n",
       " {'player': 'bogdandeac', 'name': 'Bogdan Daniel Deac'},\n",
       " {'player': 'byniolus', 'name': 'Zbigniew Pakleza'},\n",
       " {'player': 'cayse', 'name': 'Martyn Kravtsiv'},\n",
       " {'player': 'champ2005', 'name': 'Raunak Sadhwani'},\n",
       " {'player': 'chessdjw', 'name': 'Dennis Wagner'},\n",
       " {'player': 'chessmissile07', 'name': 'Suresh Harsh'},\n",
       " {'player': 'chessqueen', 'name': 'Alexandra Kosteniuk'},\n",
       " {'player': 'chito89', 'name': 'Axel Bachmann'},\n",
       " {'player': 'christopheryoo', 'name': 'Christopher Woojin Yoo'},\n",
       " {'player': 'csb7', 'name': 'Balázs Csonka'},\n",
       " {'player': 'damianolew95', 'name': 'Damian Lewtak'},\n",
       " {'player': 'danielnaroditsky', 'name': 'Daniel Naroditsky'},\n",
       " {'player': 'defiantchair', 'name': 'Eduardo Mendez Fortes'},\n",
       " {'player': 'denlaz', 'name': 'Denis Lazavik'},\n",
       " {'player': 'detimmerman', 'name': 'Mark Timmermans'},\n",
       " {'player': 'dretch', 'name': 'Conrad Holt'},\n",
       " {'player': 'dropstonedp', 'name': 'David Paravyan'},\n",
       " {'player': 'duhless', 'name': 'Daniil Dubov'},\n",
       " {'player': 'durarbayli', 'name': 'Vasif Durarbayli'},\n",
       " {'player': 'exoticprincess', 'name': 'Baadur Jobava'},\n",
       " {'player': 'fabianocaruana', 'name': 'Fabiano Caruana'},\n",
       " {'player': 'fairchess_on_youtube', 'name': 'Dmitry Andreikin'},\n",
       " {'player': 'fandorine', 'name': 'Maksim Chigaev'},\n",
       " {'player': 'fghsmn', 'name': 'Bharath Subramaniyam.H Harishankkar'},\n",
       " {'player': 'firouzja2003', 'name': 'Alireza Firouzja'},\n",
       " {'player': 'flawless_fighter', 'name': 'Polina Shuvalova'},\n",
       " {'player': 'frederiksvane', 'name': 'Frederik Svane'},\n",
       " {'player': 'gianmarcovar', 'name': 'Gianmarco Leiva'},\n",
       " {'player': 'gm_dmitrij', 'name': 'Dmitrij Kollars'},\n",
       " {'player': 'gmkrikor', 'name': 'Krikor Sevag Mekhitarian'},\n",
       " {'player': 'gmwso', 'name': 'Wesley So'},\n",
       " {'player': 'goltsevdmitry2000', 'name': 'Goltsev Dmitry'},\n",
       " {'player': 'goryachkina', 'name': 'Aleksandra Goryachkina'},\n",
       " {'player': 'grischuk', 'name': 'Alexander Grischuk'},\n",
       " {'player': 'hansen', 'name': 'Eric Hansen'},\n",
       " {'player': 'harry_rakkel', 'name': 'Krzysztof Jakubowski'},\n",
       " {'player': 'hikaru', 'name': 'Hikaru Nakamura'},\n",
       " {'player': 'howitzer14', 'name': 'David Howell'},\n",
       " {'player': 'hrant_chessmood', 'name': 'Hrant Melkumyan'},\n",
       " {'player': 'i_am_javi', 'name': 'Ernesto Javier Fernandez Guillen'},\n",
       " {'player': 'iball95', 'name': 'Vakhlamov Igor'},\n",
       " {'player': 'igorbjelobrk', 'name': 'Igor Bjelobrk'},\n",
       " {'player': 'jacky72', 'name': 'Mihnea Costachi'},\n",
       " {'player': 'jaskol95', 'name': 'Tomasz Jaskolka'},\n",
       " {'player': 'jcibarra', 'name': 'José Carlos Ibarra Jerez'},\n",
       " {'player': 'jefferyx', 'name': 'Jeffery Xiong'},\n",
       " {'player': 'jimdigrease', 'name': 'Ivan Zemlyanskii'},\n",
       " {'player': 'jospem', 'name': 'Jose Eduardo Martinez Alcantara'},\n",
       " {'player': 'k_a_s_t_o_r', 'name': 'Rodrigo Vasquez'},\n",
       " {'player': 'kildepiotr', 'name': 'Piotr Piesik'},\n",
       " {'player': 'knvb', 'name': 'Aman Hambleton'},\n",
       " {'player': 'korchmar_vasiliy', 'name': 'Vasiliy Korchmar'},\n",
       " {'player': 'kosak12', 'name': 'Jakub Kosakowski'},\n",
       " {'player': 'lefonghua', 'name': 'Lefong Hua'},\n",
       " {'player': 'legendinunknown', 'name': 'Harshavardhan GB'},\n",
       " {'player': 'lennis93', 'name': 'Lennis Martinez'},\n",
       " {'player': 'lion-al-messi', 'name': 'Ward Al-Tarboush'},\n",
       " {'player': 'magnuscarlsen', 'name': 'Magnus Carlsen'},\n",
       " {'player': 'marcus_harvey', 'name': 'Marcus Harvey'},\n",
       " {'player': 'matthewg-p4p', 'name': 'Matvey Galchenko'},\n",
       " {'player': 'mbojan', 'name': 'Bojan Maksimović'},\n",
       " {'player': 'meri-arabidze', 'name': 'Meri Arabidze'},\n",
       " {'player': 'mikhail_bryakin', 'name': 'Mikhail Bryakin'},\n",
       " {'player': 'mikhail_golubev', 'name': 'Mikhail Golubev'},\n",
       " {'player': 'mishanick', 'name': 'Aleksei Sarana'},\n",
       " {'player': 'miterryble', 'name': 'Renato Terry'},\n",
       " {'player': 'moro182', 'name': 'Luca Moroni Jr'},\n",
       " {'player': 'msb2', 'name': 'Matthias Bluebaum'},\n",
       " {'player': 'nf3c5', 'name': 'Iung Alicio de O. Pinheiro'},\n",
       " {'player': 'njal28', 'name': 'Aram Hakobyan'},\n",
       " {'player': 'ol_bilych', 'name': 'Olexiy Bilych'},\n",
       " {'player': 'oleksandr_bortnyk', 'name': 'Oleksandr Bortnyk'},\n",
       " {'player': 'oparingrigoriy', 'name': 'Grigoriy Oparin'},\n",
       " {'player': 'ozates', 'name': 'Tuna Özateş'},\n",
       " {'player': 'pedromartinez91', 'name': 'Pedro Martinez'},\n",
       " {'player': 'peshkach', 'name': 'Tykhon Cherniaiev'},\n",
       " {'player': 'player_2006_m', 'name': 'Mukhiddin Madaminov'},\n",
       " {'player': 'polish_fighter3000', 'name': 'Jan-Krzysztof Duda'},\n",
       " {'player': 'rasmussvane', 'name': 'Rasmus Svane'},\n",
       " {'player': 'reevecanada', 'name': 'Aaron Mendes'},\n",
       " {'player': 'rodalquilar', 'name': 'Leonardo Tristan'},\n",
       " {'player': 'rud_makarian', 'name': 'Rudik Makarian'},\n",
       " {'player': 'rutricks', 'name': 'Rubén Domingo Núñez'},\n",
       " {'player': 'sam_chessmood', 'name': 'Samvel Ter-Sahakyan'},\n",
       " {'player': 'sanan_sjugirov', 'name': 'Sanan Sjugirov'},\n",
       " {'player': 'santoblue', 'name': 'Vahap Sanal'},\n",
       " {'player': 'semetey', 'name': 'Semetey Tologontegin'},\n",
       " {'player': 'seorobert1971', 'name': 'Jung Min Seo'},\n",
       " {'player': 'shield12', 'name': 'Shamsiddin Vokhidov'},\n",
       " {'player': 'shimastream', 'name': 'Aleksandr Shimanov'},\n",
       " {'player': 'snowlord', 'name': 'Ivan Yeletsky'},\n",
       " {'player': 'sokidze', 'name': 'Ihor Samunenkov'},\n",
       " {'player': 'sokoloco', 'name': 'Yahli Sokolovsky'},\n",
       " {'player': 'stollenmonster', 'name': 'Egor Baskakov'},\n",
       " {'player': 'tdf98pantani', 'name': 'pawel jaracz'},\n",
       " {'player': 'tigrvshlyape', 'name': 'Gata Kamsky'},\n",
       " {'player': 'timofeevar', 'name': 'Artem Timofeev'},\n",
       " {'player': 'verdenotte', 'name': 'Gawain Maroroa Jones'},\n",
       " {'player': 'vi_pranav', 'name': 'Pranav V'},\n",
       " {'player': 'vincentkeymer', 'name': 'Vincent Keymer'},\n",
       " {'player': 'vladimir_zakhartsov', 'name': 'Vladimir Zakhartsov'},\n",
       " {'player': 'vladimirkramnik', 'name': 'Vladimir Kramnik'},\n",
       " {'player': 'vovachesss', 'name': 'Vladimir Mikhailovsky'},\n",
       " {'player': 'vugarrasulov', 'name': 'Vugar Rasulov'},\n",
       " {'player': 'vuk2000', 'name': 'Vuk Djordjevic'},\n",
       " {'player': 'witik', 'name': 'Vjacheslav Weetik'},\n",
       " {'player': 'wonderfultime', 'name': 'Tuan Minh Le'},\n",
       " {'player': 'wpwpwp-2015', 'name': 'Wojciech Przybylski'},\n",
       " {'player': 'zhigalko_sergei', 'name': 'Sergei Zhigalko'},\n",
       " {'player': 'zkid', 'name': 'Steven Zierk'}]"
      ]
     },
     "execution_count": 13,
     "metadata": {},
     "output_type": "execute_result"
    }
   ],
   "source": [
    "player_names\n",
    "#TODO\n",
    "# Create API to check players FIDE ratings\n"
   ]
  },
  {
   "cell_type": "code",
   "execution_count": 27,
   "metadata": {},
   "outputs": [],
   "source": [
    "import requests\n",
    "from bs4 import BeautifulSoup\n",
    "\n",
    "# Function to extract Blitz rating\n",
    "def get_blitz_rating(divs):\n",
    "    for div in divs:\n",
    "        label = div.find(\"div\", class_=\"stats-label\").text\n",
    "        if label.lower() == \"blitz\":\n",
    "            return div.find(\"div\", class_=\"stats-value\").text\n",
    "    return \"Blitz rating not found\"\n",
    "\n",
    "def check_rating(name):\n",
    "    splitted_name = name.split(' ')\n",
    "    lowercased = [each.lower() for each in splitted_name]\n",
    "    joined_name = '-'.join(lowercased)\n",
    "    url= f'https://www.chess.com/players/{joined_name}'\n",
    "    r = requests.get(url)\n",
    "    soup = BeautifulSoup(r.content, 'html.parser')\n",
    "    all_stats = soup.find_all('div', class_='stats-info')\n",
    "\n",
    "    return get_blitz_rating(all_stats)\n"
   ]
  },
  {
   "cell_type": "code",
   "execution_count": 44,
   "metadata": {},
   "outputs": [
    {
     "name": "stderr",
     "output_type": "stream",
     "text": [
      "100%|██████████| 131/131 [17:02<00:00,  7.80s/it]\n"
     ]
    }
   ],
   "source": [
    "import time\n",
    "for player in tqdm.tqdm(player_names):\n",
    "    iterations=0\n",
    "    name = player['name']\n",
    "    rating = check_rating(name)\n",
    "    while (rating == 'Blitz rating not found') & (iterations <= 3):\n",
    "        time.sleep(3)\n",
    "        iterations+=1\n",
    "        rating = check_rating(name)\n",
    "    player.update({'rating':rating})\n"
   ]
  },
  {
   "cell_type": "code",
   "execution_count": 41,
   "metadata": {},
   "outputs": [
    {
     "data": {
      "text/plain": [
       "'Blitz rating not found'"
      ]
     },
     "execution_count": 41,
     "metadata": {},
     "output_type": "execute_result"
    }
   ],
   "source": [
    "name\n",
    "check_rating(name)\n"
   ]
  },
  {
   "cell_type": "code",
   "execution_count": 50,
   "metadata": {},
   "outputs": [],
   "source": [
    "fide_df = pd.DataFrame(player_names)\n",
    "# fide_df.to_csv('players_ratings.csv', index=False)\n",
    "rating_players = fide_df.loc[fide_df.rating!='Blitz rating not found'].astype({'rating':int})\n"
   ]
  },
  {
   "cell_type": "code",
   "execution_count": 51,
   "metadata": {},
   "outputs": [],
   "source": [
    "import numpy as np\n",
    "import matplotlib.pyplot as plt\n",
    "def ecdf(data):\n",
    "  \"\"\"Compute ECDF for a one-dimensional array of measurements.\"\"\"\n",
    "\n",
    "  # Number of data points: n\n",
    "  n = len(data)\n",
    "\n",
    "  # x-data for the ECDF: x\n",
    "  x = np.sort(data)\n",
    "\n",
    "  # y-data for the ECDF: y\n",
    "  y = np.arange(1, n+1) / n\n",
    "\n",
    "  return x, y\n",
    "\n",
    "def bootstrap_replicate_1d(data, func):\n",
    "    \"\"\"Generate bootstrap replicate of 1D data.\"\"\"\n",
    "    bs_sample = np.random.choice(data, len(data))\n",
    "\n",
    "    return func(bs_sample)\n",
    "\n",
    "\n",
    "def draw_bs_reps(data, func, size=1):\n",
    "    \"\"\"Draw `size` bootstrap replicates.\"\"\"\n",
    "    # Initialize array of replicates\n",
    "    bs_replicates = np.empty(size)\n",
    "\n",
    "    # Generate replicates\n",
    "    for i in range(size):\n",
    "        bs_replicates[i] = bootstrap_replicate_1d(data, func)\n",
    "\n",
    "    return bs_replicates\n",
    "\n",
    "def plugin_summary(\n",
    "    data, func, ptiles=(2.5, 97.5), n_bs_reps=2000, label=None\n",
    "):\n",
    "    \"\"\"Compute and store ECDF, plug-in estimate, and confidence\n",
    "    intervals in a dictionary.\"\"\"\n",
    "    # Initialize output dictionary\n",
    "    summary = {}\n",
    "    # Store data and settings\n",
    "    summary['data'] = data\n",
    "    summary['func'] = func\n",
    "    summary['ptiles'] = ptiles\n",
    "    summary['n_bs_reps'] = n_bs_reps\n",
    "    summary['label'] = label\n",
    "    # Compute ECDF x and y values\n",
    "    summary['ecdf_x'], summary['ecdf_y'] = ecdf(data)\n",
    "    # Compute plug-in estimate\n",
    "    summary['estimate'] = func(data)\n",
    "    # Compute bootstrap confidence interval\n",
    "    summary['bs_reps'] = draw_bs_reps(data, func, size=n_bs_reps)\n",
    "    summary['conf_int'] = np.percentile(summary['bs_reps'], ptiles)\n",
    "    return summary\n",
    "\n",
    "def plot_conf_ints(summaries, palette=None):\n",
    "    \"\"\"Plot confidence intervals with estimates.\"\"\"\n",
    "    # Set a nice color palette\n",
    "    if palette is None:\n",
    "        palette = [\n",
    "            \"#1f77b4\",\n",
    "            \"#ff7f0e\",\n",
    "            \"#2ca02c\",\n",
    "            \"#d62728\",\n",
    "            \"#9467bd\",\n",
    "            \"#8c564b\",\n",
    "            \"#e377c2\",\n",
    "            \"#7f7f7f\",\n",
    "            \"#bcbd22\",\n",
    "            \"#17becf\",\n",
    "        ]\n",
    "    elif type(palette) == str:\n",
    "        palette = [palette]\n",
    "\n",
    "    labels = [ci[\"label\"] for ci in summaries][::-1]\n",
    "    estimates = [ci[\"estimate\"] for ci in summaries][::-1]\n",
    "    conf_intervals = [ci[\"conf_int\"] for ci in summaries][::-1]\n",
    "    palette = palette[: len(labels)][::-1]\n",
    "\n",
    "    # Set up axes for plot\n",
    "    fig, ax = plt.subplots(figsize=(15, 15))\n",
    "\n",
    "    # Plot estimates as dots and confidence intervals as lines\n",
    "    for i, (label, est, conf_int) in enumerate(\n",
    "        zip(labels, estimates, conf_intervals)\n",
    "    ):\n",
    "        color = palette[i % len(palette)]\n",
    "        ax.plot(\n",
    "            [est],\n",
    "            [label],\n",
    "            marker=\".\",\n",
    "            linestyle=\"none\",\n",
    "            markersize=10,\n",
    "            color=color,\n",
    "        )\n",
    "\n",
    "        ax.plot(conf_int, [label] * 2, linewidth=3, color=color)\n",
    "\n",
    "    # Make sure margins look ok\n",
    "    ax.margins(y=0.25 if len(labels) < 3 else 0.125)\n",
    "\n",
    "    return ax\n"
   ]
  },
  {
   "cell_type": "code",
   "execution_count": 54,
   "metadata": {},
   "outputs": [
    {
     "data": {
      "text/html": [
       "<div>\n",
       "<style scoped>\n",
       "    .dataframe tbody tr th:only-of-type {\n",
       "        vertical-align: middle;\n",
       "    }\n",
       "\n",
       "    .dataframe tbody tr th {\n",
       "        vertical-align: top;\n",
       "    }\n",
       "\n",
       "    .dataframe thead th {\n",
       "        text-align: right;\n",
       "    }\n",
       "</style>\n",
       "<table border=\"1\" class=\"dataframe\">\n",
       "  <thead>\n",
       "    <tr style=\"text-align: right;\">\n",
       "      <th></th>\n",
       "      <th>player</th>\n",
       "      <th>name</th>\n",
       "      <th>rating</th>\n",
       "    </tr>\n",
       "  </thead>\n",
       "  <tbody>\n",
       "    <tr>\n",
       "      <th>1</th>\n",
       "      <td>actorxu</td>\n",
       "      <td>Xu Yi</td>\n",
       "      <td>2460</td>\n",
       "    </tr>\n",
       "    <tr>\n",
       "      <th>2</th>\n",
       "      <td>alexei_gubajdullin</td>\n",
       "      <td>Alexei Gubajdullin</td>\n",
       "      <td>2275</td>\n",
       "    </tr>\n",
       "    <tr>\n",
       "      <th>3</th>\n",
       "      <td>alexpapasimakopoulos</td>\n",
       "      <td>Alexandros Papasimakopoulos</td>\n",
       "      <td>2358</td>\n",
       "    </tr>\n",
       "    <tr>\n",
       "      <th>5</th>\n",
       "      <td>anton_demchenko</td>\n",
       "      <td>Anton Demchenko</td>\n",
       "      <td>2545</td>\n",
       "    </tr>\n",
       "    <tr>\n",
       "      <th>7</th>\n",
       "      <td>artin10862</td>\n",
       "      <td>Artin Ashraf</td>\n",
       "      <td>2224</td>\n",
       "    </tr>\n",
       "    <tr>\n",
       "      <th>...</th>\n",
       "      <td>...</td>\n",
       "      <td>...</td>\n",
       "      <td>...</td>\n",
       "    </tr>\n",
       "    <tr>\n",
       "      <th>124</th>\n",
       "      <td>vugarrasulov</td>\n",
       "      <td>Vugar Rasulov</td>\n",
       "      <td>2517</td>\n",
       "    </tr>\n",
       "    <tr>\n",
       "      <th>125</th>\n",
       "      <td>vuk2000</td>\n",
       "      <td>Vuk Djordjevic</td>\n",
       "      <td>2425</td>\n",
       "    </tr>\n",
       "    <tr>\n",
       "      <th>127</th>\n",
       "      <td>wonderfultime</td>\n",
       "      <td>Tuan Minh Le</td>\n",
       "      <td>2565</td>\n",
       "    </tr>\n",
       "    <tr>\n",
       "      <th>128</th>\n",
       "      <td>wpwpwp-2015</td>\n",
       "      <td>Wojciech Przybylski</td>\n",
       "      <td>2228</td>\n",
       "    </tr>\n",
       "    <tr>\n",
       "      <th>129</th>\n",
       "      <td>zhigalko_sergei</td>\n",
       "      <td>Sergei Zhigalko</td>\n",
       "      <td>2616</td>\n",
       "    </tr>\n",
       "  </tbody>\n",
       "</table>\n",
       "<p>91 rows × 3 columns</p>\n",
       "</div>"
      ],
      "text/plain": [
       "                   player                         name  rating\n",
       "1                 actorxu                        Xu Yi    2460\n",
       "2      alexei_gubajdullin           Alexei Gubajdullin    2275\n",
       "3    alexpapasimakopoulos  Alexandros Papasimakopoulos    2358\n",
       "5         anton_demchenko              Anton Demchenko    2545\n",
       "7              artin10862                 Artin Ashraf    2224\n",
       "..                    ...                          ...     ...\n",
       "124          vugarrasulov                Vugar Rasulov    2517\n",
       "125               vuk2000               Vuk Djordjevic    2425\n",
       "127         wonderfultime                 Tuan Minh Le    2565\n",
       "128           wpwpwp-2015          Wojciech Przybylski    2228\n",
       "129       zhigalko_sergei              Sergei Zhigalko    2616\n",
       "\n",
       "[91 rows x 3 columns]"
      ]
     },
     "execution_count": 54,
     "metadata": {},
     "output_type": "execute_result"
    }
   ],
   "source": [
    "rating_players\n"
   ]
  },
  {
   "cell_type": "code",
   "execution_count": 56,
   "metadata": {},
   "outputs": [],
   "source": [
    "slice = over_30_games_players_df.loc[over_30_games_players_df.player.isin(rating_players.player.values)]\n"
   ]
  },
  {
   "cell_type": "code",
   "execution_count": 57,
   "metadata": {},
   "outputs": [
    {
     "data": {
      "image/png": "[encoded data removed]",
      "text/plain": [
       "<Figure size 1500x1500 with 1 Axes>"
      ]
     },
     "metadata": {},
     "output_type": "display_data"
    }
   ],
   "source": [
    "# Initialize list of plug-in summaries\n",
    "summaries = []\n",
    "# Iterate through groups and instantiate conf intervals\n",
    "for label, group in slice.groupby('player'):\n",
    "    summaries.append(\n",
    "      plugin_summary(\n",
    "          group['place'].dropna().values, np.mean, label=label\n",
    "      )\n",
    "  )\n",
    "fig = plot_conf_ints(summaries)\n"
   ]
  },
  {
   "cell_type": "code",
   "execution_count": 59,
   "metadata": {},
   "outputs": [
    {
     "data": {
      "text/plain": [
       "{'data': array([ 66,  42,  74,  60,  25,  54,  11,  13,  38,  16, 111,  25,  14,\n",
       "         26,  71,  52,   9,  44,  12,  84,  19,  25,  20,  26,  19,  52,\n",
       "        101,  15,  17,  19,  45, 127,  29,  83,  17,  12,  23,  22,  70,\n",
       "         31,  28, 198,  49,  52,  61,  12,  18,  68,  20,  19,  15,  11,\n",
       "          7, 116, 107]),\n",
       " 'func': <function numpy.mean(a, axis=None, dtype=None, out=None, keepdims=<no value>, *, where=<no value>)>,\n",
       " 'ptiles': (2.5, 97.5),\n",
       " 'n_bs_reps': 2000,\n",
       " 'label': 'actorxu',\n",
       " 'ecdf_x': array([  7,   9,  11,  11,  12,  12,  12,  13,  14,  15,  15,  16,  17,\n",
       "         17,  18,  19,  19,  19,  19,  20,  20,  22,  23,  25,  25,  25,\n",
       "         26,  26,  28,  29,  31,  38,  42,  44,  45,  49,  52,  52,  52,\n",
       "         54,  60,  61,  66,  68,  70,  71,  74,  83,  84, 101, 107, 111,\n",
       "        116, 127, 198]),\n",
       " 'ecdf_y': array([0.01818182, 0.03636364, 0.05454545, 0.07272727, 0.09090909,\n",
       "        0.10909091, 0.12727273, 0.14545455, 0.16363636, 0.18181818,\n",
       "        0.2       , 0.21818182, 0.23636364, 0.25454545, 0.27272727,\n",
       "        0.29090909, 0.30909091, 0.32727273, 0.34545455, 0.36363636,\n",
       "        0.38181818, 0.4       , 0.41818182, 0.43636364, 0.45454545,\n",
       "        0.47272727, 0.49090909, 0.50909091, 0.52727273, 0.54545455,\n",
       "        0.56363636, 0.58181818, 0.6       , 0.61818182, 0.63636364,\n",
       "        0.65454545, 0.67272727, 0.69090909, 0.70909091, 0.72727273,\n",
       "        0.74545455, 0.76363636, 0.78181818, 0.8       , 0.81818182,\n",
       "        0.83636364, 0.85454545, 0.87272727, 0.89090909, 0.90909091,\n",
       "        0.92727273, 0.94545455, 0.96363636, 0.98181818, 1.        ]),\n",
       " 'estimate': 43.63636363636363,\n",
       " 'bs_reps': array([39.89090909, 47.76363636, 43.41818182, ..., 40.32727273,\n",
       "        46.89090909, 36.70909091]),\n",
       " 'conf_int': array([34.52590909, 54.055     ])}"
      ]
     },
     "execution_count": 59,
     "metadata": {},
     "output_type": "execute_result"
    }
   ],
   "source": [
    "summaries[0]\n"
   ]
  },
  {
   "cell_type": "code",
   "execution_count": 61,
   "metadata": {},
   "outputs": [],
   "source": [
    "summaries_stats = []\n",
    "for each in summaries:\n",
    "    name = each['label']\n",
    "    num_games = len(each['data'])\n",
    "    estimate = each['estimate']\n",
    "    min_int = each['conf_int'][0]\n",
    "    max_int = each['conf_int'][1]\n",
    "    summaries_stats.append({'name':name, 'num_games':num_games, 'estimate':estimate, 'min_int':min_int, 'max_int': max_int})\n"
   ]
  },
  {
   "cell_type": "code",
   "execution_count": 64,
   "metadata": {},
   "outputs": [
    {
     "data": {
      "text/html": [
       "<div>\n",
       "<style scoped>\n",
       "    .dataframe tbody tr th:only-of-type {\n",
       "        vertical-align: middle;\n",
       "    }\n",
       "\n",
       "    .dataframe tbody tr th {\n",
       "        vertical-align: top;\n",
       "    }\n",
       "\n",
       "    .dataframe thead th {\n",
       "        text-align: right;\n",
       "    }\n",
       "</style>\n",
       "<table border=\"1\" class=\"dataframe\">\n",
       "  <thead>\n",
       "    <tr style=\"text-align: right;\">\n",
       "      <th></th>\n",
       "      <th>player</th>\n",
       "      <th>name</th>\n",
       "      <th>rating</th>\n",
       "    </tr>\n",
       "  </thead>\n",
       "  <tbody>\n",
       "    <tr>\n",
       "      <th>1</th>\n",
       "      <td>actorxu</td>\n",
       "      <td>Xu Yi</td>\n",
       "      <td>2460</td>\n",
       "    </tr>\n",
       "    <tr>\n",
       "      <th>2</th>\n",
       "      <td>alexei_gubajdullin</td>\n",
       "      <td>Alexei Gubajdullin</td>\n",
       "      <td>2275</td>\n",
       "    </tr>\n",
       "    <tr>\n",
       "      <th>3</th>\n",
       "      <td>alexpapasimakopoulos</td>\n",
       "      <td>Alexandros Papasimakopoulos</td>\n",
       "      <td>2358</td>\n",
       "    </tr>\n",
       "    <tr>\n",
       "      <th>5</th>\n",
       "      <td>anton_demchenko</td>\n",
       "      <td>Anton Demchenko</td>\n",
       "      <td>2545</td>\n",
       "    </tr>\n",
       "    <tr>\n",
       "      <th>7</th>\n",
       "      <td>artin10862</td>\n",
       "      <td>Artin Ashraf</td>\n",
       "      <td>2224</td>\n",
       "    </tr>\n",
       "    <tr>\n",
       "      <th>...</th>\n",
       "      <td>...</td>\n",
       "      <td>...</td>\n",
       "      <td>...</td>\n",
       "    </tr>\n",
       "    <tr>\n",
       "      <th>124</th>\n",
       "      <td>vugarrasulov</td>\n",
       "      <td>Vugar Rasulov</td>\n",
       "      <td>2517</td>\n",
       "    </tr>\n",
       "    <tr>\n",
       "      <th>125</th>\n",
       "      <td>vuk2000</td>\n",
       "      <td>Vuk Djordjevic</td>\n",
       "      <td>2425</td>\n",
       "    </tr>\n",
       "    <tr>\n",
       "      <th>127</th>\n",
       "      <td>wonderfultime</td>\n",
       "      <td>Tuan Minh Le</td>\n",
       "      <td>2565</td>\n",
       "    </tr>\n",
       "    <tr>\n",
       "      <th>128</th>\n",
       "      <td>wpwpwp-2015</td>\n",
       "      <td>Wojciech Przybylski</td>\n",
       "      <td>2228</td>\n",
       "    </tr>\n",
       "    <tr>\n",
       "      <th>129</th>\n",
       "      <td>zhigalko_sergei</td>\n",
       "      <td>Sergei Zhigalko</td>\n",
       "      <td>2616</td>\n",
       "    </tr>\n",
       "  </tbody>\n",
       "</table>\n",
       "<p>91 rows × 3 columns</p>\n",
       "</div>"
      ],
      "text/plain": [
       "                   player                         name  rating\n",
       "1                 actorxu                        Xu Yi    2460\n",
       "2      alexei_gubajdullin           Alexei Gubajdullin    2275\n",
       "3    alexpapasimakopoulos  Alexandros Papasimakopoulos    2358\n",
       "5         anton_demchenko              Anton Demchenko    2545\n",
       "7              artin10862                 Artin Ashraf    2224\n",
       "..                    ...                          ...     ...\n",
       "124          vugarrasulov                Vugar Rasulov    2517\n",
       "125               vuk2000               Vuk Djordjevic    2425\n",
       "127         wonderfultime                 Tuan Minh Le    2565\n",
       "128           wpwpwp-2015          Wojciech Przybylski    2228\n",
       "129       zhigalko_sergei              Sergei Zhigalko    2616\n",
       "\n",
       "[91 rows x 3 columns]"
      ]
     },
     "execution_count": 64,
     "metadata": {},
     "output_type": "execute_result"
    }
   ],
   "source": [
    "rating_players\n"
   ]
  },
  {
   "cell_type": "code",
   "execution_count": 68,
   "metadata": {},
   "outputs": [],
   "source": [
    "summaries_stats_df = pd.DataFrame(summaries_stats)\n",
    "merged_df =pd.merge(summaries_stats_df, rating_players, how='left',left_on='name', right_on='player', left_index=False, right_index=False)\n",
    "merged_df=merged_df.drop(columns=['name_x','player'])\n"
   ]
  },
  {
   "cell_type": "code",
   "execution_count": 79,
   "metadata": {},
   "outputs": [
    {
     "data": {
      "text/html": [
       "<div>\n",
       "<style scoped>\n",
       "    .dataframe tbody tr th:only-of-type {\n",
       "        vertical-align: middle;\n",
       "    }\n",
       "\n",
       "    .dataframe tbody tr th {\n",
       "        vertical-align: top;\n",
       "    }\n",
       "\n",
       "    .dataframe thead th {\n",
       "        text-align: right;\n",
       "    }\n",
       "</style>\n",
       "<table border=\"1\" class=\"dataframe\">\n",
       "  <thead>\n",
       "    <tr style=\"text-align: right;\">\n",
       "      <th></th>\n",
       "      <th>num_games</th>\n",
       "      <th>estimate</th>\n",
       "      <th>min_int</th>\n",
       "      <th>max_int</th>\n",
       "      <th>name_y</th>\n",
       "      <th>rating</th>\n",
       "      <th>conf_width</th>\n",
       "    </tr>\n",
       "  </thead>\n",
       "  <tbody>\n",
       "    <tr>\n",
       "      <th>56</th>\n",
       "      <td>36</td>\n",
       "      <td>6.222222</td>\n",
       "      <td>4.304861</td>\n",
       "      <td>8.528472</td>\n",
       "      <td>Magnus Carlsen</td>\n",
       "      <td>2887</td>\n",
       "      <td>4.223611</td>\n",
       "    </tr>\n",
       "    <tr>\n",
       "      <th>38</th>\n",
       "      <td>31</td>\n",
       "      <td>11.193548</td>\n",
       "      <td>8.161290</td>\n",
       "      <td>14.484677</td>\n",
       "      <td>Wesley So</td>\n",
       "      <td>2760</td>\n",
       "      <td>6.323387</td>\n",
       "    </tr>\n",
       "    <tr>\n",
       "      <th>43</th>\n",
       "      <td>121</td>\n",
       "      <td>12.776860</td>\n",
       "      <td>7.527893</td>\n",
       "      <td>19.380579</td>\n",
       "      <td>Hikaru Nakamura</td>\n",
       "      <td>2874</td>\n",
       "      <td>11.852686</td>\n",
       "    </tr>\n",
       "    <tr>\n",
       "      <th>68</th>\n",
       "      <td>49</td>\n",
       "      <td>13.673469</td>\n",
       "      <td>9.591327</td>\n",
       "      <td>18.532143</td>\n",
       "      <td>Jan-Krzysztof Duda</td>\n",
       "      <td>2775</td>\n",
       "      <td>8.940816</td>\n",
       "    </tr>\n",
       "    <tr>\n",
       "      <th>24</th>\n",
       "      <td>69</td>\n",
       "      <td>17.362319</td>\n",
       "      <td>13.956522</td>\n",
       "      <td>21.188768</td>\n",
       "      <td>Denis Lazavik</td>\n",
       "      <td>2560</td>\n",
       "      <td>7.232246</td>\n",
       "    </tr>\n",
       "    <tr>\n",
       "      <th>65</th>\n",
       "      <td>137</td>\n",
       "      <td>17.452555</td>\n",
       "      <td>13.109124</td>\n",
       "      <td>23.037044</td>\n",
       "      <td>Oleksandr Bortnyk</td>\n",
       "      <td>2725</td>\n",
       "      <td>9.927920</td>\n",
       "    </tr>\n",
       "    <tr>\n",
       "      <th>16</th>\n",
       "      <td>95</td>\n",
       "      <td>17.810526</td>\n",
       "      <td>15.115789</td>\n",
       "      <td>20.663684</td>\n",
       "      <td>Bogdan Daniel Deac</td>\n",
       "      <td>2641</td>\n",
       "      <td>5.547895</td>\n",
       "    </tr>\n",
       "    <tr>\n",
       "      <th>88</th>\n",
       "      <td>57</td>\n",
       "      <td>20.912281</td>\n",
       "      <td>14.366667</td>\n",
       "      <td>28.315789</td>\n",
       "      <td>Tuan Minh Le</td>\n",
       "      <td>2565</td>\n",
       "      <td>13.949123</td>\n",
       "    </tr>\n",
       "    <tr>\n",
       "      <th>84</th>\n",
       "      <td>32</td>\n",
       "      <td>22.281250</td>\n",
       "      <td>14.906250</td>\n",
       "      <td>34.187500</td>\n",
       "      <td>Vincent Keymer</td>\n",
       "      <td>2645</td>\n",
       "      <td>19.281250</td>\n",
       "    </tr>\n",
       "    <tr>\n",
       "      <th>40</th>\n",
       "      <td>38</td>\n",
       "      <td>23.157895</td>\n",
       "      <td>12.288816</td>\n",
       "      <td>36.710526</td>\n",
       "      <td>Alexander Grischuk</td>\n",
       "      <td>2701</td>\n",
       "      <td>24.421711</td>\n",
       "    </tr>\n",
       "    <tr>\n",
       "      <th>51</th>\n",
       "      <td>127</td>\n",
       "      <td>23.574803</td>\n",
       "      <td>16.731890</td>\n",
       "      <td>31.606299</td>\n",
       "      <td>Jose Eduardo Martinez Alcantara</td>\n",
       "      <td>2703</td>\n",
       "      <td>14.874409</td>\n",
       "    </tr>\n",
       "    <tr>\n",
       "      <th>18</th>\n",
       "      <td>36</td>\n",
       "      <td>23.777778</td>\n",
       "      <td>12.638889</td>\n",
       "      <td>39.060417</td>\n",
       "      <td>Raunak Sadhwani</td>\n",
       "      <td>2669</td>\n",
       "      <td>26.421528</td>\n",
       "    </tr>\n",
       "    <tr>\n",
       "      <th>83</th>\n",
       "      <td>154</td>\n",
       "      <td>25.525974</td>\n",
       "      <td>21.934903</td>\n",
       "      <td>29.370292</td>\n",
       "      <td>Gata Kamsky</td>\n",
       "      <td>2660</td>\n",
       "      <td>7.435390</td>\n",
       "    </tr>\n",
       "    <tr>\n",
       "      <th>60</th>\n",
       "      <td>51</td>\n",
       "      <td>26.450980</td>\n",
       "      <td>16.175980</td>\n",
       "      <td>40.078922</td>\n",
       "      <td>Renato Terry</td>\n",
       "      <td>2575</td>\n",
       "      <td>23.902941</td>\n",
       "    </tr>\n",
       "    <tr>\n",
       "      <th>30</th>\n",
       "      <td>68</td>\n",
       "      <td>29.029412</td>\n",
       "      <td>18.969485</td>\n",
       "      <td>41.485662</td>\n",
       "      <td>Baadur Jobava</td>\n",
       "      <td>2576</td>\n",
       "      <td>22.516176</td>\n",
       "    </tr>\n",
       "    <tr>\n",
       "      <th>32</th>\n",
       "      <td>95</td>\n",
       "      <td>29.410526</td>\n",
       "      <td>24.578421</td>\n",
       "      <td>35.021053</td>\n",
       "      <td>Maksim Chigaev</td>\n",
       "      <td>2561</td>\n",
       "      <td>10.442632</td>\n",
       "    </tr>\n",
       "    <tr>\n",
       "      <th>77</th>\n",
       "      <td>42</td>\n",
       "      <td>29.428571</td>\n",
       "      <td>20.618452</td>\n",
       "      <td>40.119048</td>\n",
       "      <td>Shamsiddin Vokhidov</td>\n",
       "      <td>2559</td>\n",
       "      <td>19.500595</td>\n",
       "    </tr>\n",
       "    <tr>\n",
       "      <th>28</th>\n",
       "      <td>84</td>\n",
       "      <td>30.119048</td>\n",
       "      <td>18.701190</td>\n",
       "      <td>42.121131</td>\n",
       "      <td>Daniil Dubov</td>\n",
       "      <td>2767</td>\n",
       "      <td>23.419940</td>\n",
       "    </tr>\n",
       "    <tr>\n",
       "      <th>90</th>\n",
       "      <td>163</td>\n",
       "      <td>30.184049</td>\n",
       "      <td>26.754448</td>\n",
       "      <td>33.871626</td>\n",
       "      <td>Sergei Zhigalko</td>\n",
       "      <td>2616</td>\n",
       "      <td>7.117178</td>\n",
       "    </tr>\n",
       "    <tr>\n",
       "      <th>41</th>\n",
       "      <td>60</td>\n",
       "      <td>31.383333</td>\n",
       "      <td>25.315417</td>\n",
       "      <td>38.735000</td>\n",
       "      <td>Eric Hansen</td>\n",
       "      <td>2561</td>\n",
       "      <td>13.419583</td>\n",
       "    </tr>\n",
       "  </tbody>\n",
       "</table>\n",
       "</div>"
      ],
      "text/plain": [
       "    num_games   estimate    min_int    max_int  \\\n",
       "56         36   6.222222   4.304861   8.528472   \n",
       "38         31  11.193548   8.161290  14.484677   \n",
       "43        121  12.776860   7.527893  19.380579   \n",
       "68         49  13.673469   9.591327  18.532143   \n",
       "24         69  17.362319  13.956522  21.188768   \n",
       "65        137  17.452555  13.109124  23.037044   \n",
       "16         95  17.810526  15.115789  20.663684   \n",
       "88         57  20.912281  14.366667  28.315789   \n",
       "84         32  22.281250  14.906250  34.187500   \n",
       "40         38  23.157895  12.288816  36.710526   \n",
       "51        127  23.574803  16.731890  31.606299   \n",
       "18         36  23.777778  12.638889  39.060417   \n",
       "83        154  25.525974  21.934903  29.370292   \n",
       "60         51  26.450980  16.175980  40.078922   \n",
       "30         68  29.029412  18.969485  41.485662   \n",
       "32         95  29.410526  24.578421  35.021053   \n",
       "77         42  29.428571  20.618452  40.119048   \n",
       "28         84  30.119048  18.701190  42.121131   \n",
       "90        163  30.184049  26.754448  33.871626   \n",
       "41         60  31.383333  25.315417  38.735000   \n",
       "\n",
       "                             name_y  rating  conf_width  \n",
       "56                   Magnus Carlsen    2887    4.223611  \n",
       "38                        Wesley So    2760    6.323387  \n",
       "43                  Hikaru Nakamura    2874   11.852686  \n",
       "68               Jan-Krzysztof Duda    2775    8.940816  \n",
       "24                    Denis Lazavik    2560    7.232246  \n",
       "65                Oleksandr Bortnyk    2725    9.927920  \n",
       "16               Bogdan Daniel Deac    2641    5.547895  \n",
       "88                     Tuan Minh Le    2565   13.949123  \n",
       "84                   Vincent Keymer    2645   19.281250  \n",
       "40               Alexander Grischuk    2701   24.421711  \n",
       "51  Jose Eduardo Martinez Alcantara    2703   14.874409  \n",
       "18                  Raunak Sadhwani    2669   26.421528  \n",
       "83                      Gata Kamsky    2660    7.435390  \n",
       "60                     Renato Terry    2575   23.902941  \n",
       "30                    Baadur Jobava    2576   22.516176  \n",
       "32                   Maksim Chigaev    2561   10.442632  \n",
       "77              Shamsiddin Vokhidov    2559   19.500595  \n",
       "28                     Daniil Dubov    2767   23.419940  \n",
       "90                  Sergei Zhigalko    2616    7.117178  \n",
       "41                      Eric Hansen    2561   13.419583  "
      ]
     },
     "execution_count": 79,
     "metadata": {},
     "output_type": "execute_result"
    }
   ],
   "source": [
    "merged_df['conf_width'] = merged_df['max_int'] - merged_df['min_int']\n",
    "merged_df.sort_values('estimate').head(20)\n"
   ]
  },
  {
   "cell_type": "code",
   "execution_count": 166,
   "metadata": {},
   "outputs": [
    {
     "name": "stderr",
     "output_type": "stream",
     "text": [
      "/Users/poloniki/.pyenv/versions/3.10.6/envs/lewagon/lib/python3.10/site-packages/sklearn/cluster/_kmeans.py:870: FutureWarning:\n",
      "\n",
      "The default value of `n_init` will change from 10 to 'auto' in 1.4. Set the value of `n_init` explicitly to suppress the warning\n",
      "\n",
      "/Users/poloniki/.pyenv/versions/3.10.6/envs/lewagon/lib/python3.10/site-packages/sklearn/cluster/_kmeans.py:870: FutureWarning:\n",
      "\n",
      "The default value of `n_init` will change from 10 to 'auto' in 1.4. Set the value of `n_init` explicitly to suppress the warning\n",
      "\n",
      "/Users/poloniki/.pyenv/versions/3.10.6/envs/lewagon/lib/python3.10/site-packages/sklearn/cluster/_kmeans.py:870: FutureWarning:\n",
      "\n",
      "The default value of `n_init` will change from 10 to 'auto' in 1.4. Set the value of `n_init` explicitly to suppress the warning\n",
      "\n",
      "/Users/poloniki/.pyenv/versions/3.10.6/envs/lewagon/lib/python3.10/site-packages/sklearn/cluster/_kmeans.py:870: FutureWarning:\n",
      "\n",
      "The default value of `n_init` will change from 10 to 'auto' in 1.4. Set the value of `n_init` explicitly to suppress the warning\n",
      "\n",
      "/Users/poloniki/.pyenv/versions/3.10.6/envs/lewagon/lib/python3.10/site-packages/sklearn/cluster/_kmeans.py:870: FutureWarning:\n",
      "\n",
      "The default value of `n_init` will change from 10 to 'auto' in 1.4. Set the value of `n_init` explicitly to suppress the warning\n",
      "\n",
      "/Users/poloniki/.pyenv/versions/3.10.6/envs/lewagon/lib/python3.10/site-packages/sklearn/cluster/_kmeans.py:870: FutureWarning:\n",
      "\n",
      "The default value of `n_init` will change from 10 to 'auto' in 1.4. Set the value of `n_init` explicitly to suppress the warning\n",
      "\n",
      "/Users/poloniki/.pyenv/versions/3.10.6/envs/lewagon/lib/python3.10/site-packages/sklearn/cluster/_kmeans.py:870: FutureWarning:\n",
      "\n",
      "The default value of `n_init` will change from 10 to 'auto' in 1.4. Set the value of `n_init` explicitly to suppress the warning\n",
      "\n",
      "/Users/poloniki/.pyenv/versions/3.10.6/envs/lewagon/lib/python3.10/site-packages/sklearn/cluster/_kmeans.py:870: FutureWarning:\n",
      "\n",
      "The default value of `n_init` will change from 10 to 'auto' in 1.4. Set the value of `n_init` explicitly to suppress the warning\n",
      "\n",
      "/Users/poloniki/.pyenv/versions/3.10.6/envs/lewagon/lib/python3.10/site-packages/sklearn/cluster/_kmeans.py:870: FutureWarning:\n",
      "\n",
      "The default value of `n_init` will change from 10 to 'auto' in 1.4. Set the value of `n_init` explicitly to suppress the warning\n",
      "\n",
      "/Users/poloniki/.pyenv/versions/3.10.6/envs/lewagon/lib/python3.10/site-packages/sklearn/cluster/_kmeans.py:870: FutureWarning:\n",
      "\n",
      "The default value of `n_init` will change from 10 to 'auto' in 1.4. Set the value of `n_init` explicitly to suppress the warning\n",
      "\n"
     ]
    },
    {
     "data": {
      "image/png": "[encoded data removed]",
      "text/plain": [
       "<Figure size 1600x800 with 1 Axes>"
      ]
     },
     "metadata": {},
     "output_type": "display_data"
    }
   ],
   "source": [
    "import numpy as np\n",
    "import matplotlib.pyplot as plt\n",
    "from sklearn.cluster import KMeans\n",
    "from sklearn.datasets import make_blobs\n",
    "from sklearn.preprocessing import StandardScaler\n",
    "\n",
    "# Assuming merged_df is your dataframe and it's already been loaded\n",
    "X = merged_df.drop(columns=['name_y', 'min_int', 'max_int', 'num_games'])\n",
    "\n",
    "# Initialize the scaler\n",
    "scaler = StandardScaler()\n",
    "\n",
    "# Fit and transform the data\n",
    "X_scaled = scaler.fit_transform(X)\n",
    "\n",
    "distortions = []\n",
    "K = range(1, 11)\n",
    "for k in K:\n",
    "    kmeanModel = KMeans(n_clusters=k)\n",
    "    kmeanModel.fit(X_scaled)\n",
    "    distortions.append(kmeanModel.inertia_)\n",
    "\n",
    "# Now you can plot the distortions to find the elbow point\n",
    "plt.figure(figsize=(16,8))\n",
    "plt.plot(K, distortions, 'bx-')\n",
    "plt.xlabel('k')\n",
    "plt.ylabel('Distortion')\n",
    "plt.title('The Elbow Method showing the optimal k')\n",
    "plt.show()\n"
   ]
  },
  {
   "cell_type": "code",
   "execution_count": null,
   "metadata": {},
   "outputs": [],
   "source": []
  },
  {
   "cell_type": "code",
   "execution_count": 168,
   "metadata": {},
   "outputs": [
    {
     "name": "stderr",
     "output_type": "stream",
     "text": [
      "/Users/poloniki/.pyenv/versions/3.10.6/envs/lewagon/lib/python3.10/site-packages/sklearn/cluster/_kmeans.py:870: FutureWarning:\n",
      "\n",
      "The default value of `n_init` will change from 10 to 'auto' in 1.4. Set the value of `n_init` explicitly to suppress the warning\n",
      "\n"
     ]
    },
    {
     "data": {
      "text/html": [
       "<style>#sk-container-id-10 {color: black;background-color: white;}#sk-container-id-10 pre{padding: 0;}#sk-container-id-10 div.sk-toggleable {background-color: white;}#sk-container-id-10 label.sk-toggleable__label {cursor: pointer;display: block;width: 100%;margin-bottom: 0;padding: 0.3em;box-sizing: border-box;text-align: center;}#sk-container-id-10 label.sk-toggleable__label-arrow:before {content: \"▸\";float: left;margin-right: 0.25em;color: #696969;}#sk-container-id-10 label.sk-toggleable__label-arrow:hover:before {color: black;}#sk-container-id-10 div.sk-estimator:hover label.sk-toggleable__label-arrow:before {color: black;}#sk-container-id-10 div.sk-toggleable__content {max-height: 0;max-width: 0;overflow: hidden;text-align: left;background-color: #f0f8ff;}#sk-container-id-10 div.sk-toggleable__content pre {margin: 0.2em;color: black;border-radius: 0.25em;background-color: #f0f8ff;}#sk-container-id-10 input.sk-toggleable__control:checked~div.sk-toggleable__content {max-height: 200px;max-width: 100%;overflow: auto;}#sk-container-id-10 input.sk-toggleable__control:checked~label.sk-toggleable__label-arrow:before {content: \"▾\";}#sk-container-id-10 div.sk-estimator input.sk-toggleable__control:checked~label.sk-toggleable__label {background-color: #d4ebff;}#sk-container-id-10 div.sk-label input.sk-toggleable__control:checked~label.sk-toggleable__label {background-color: #d4ebff;}#sk-container-id-10 input.sk-hidden--visually {border: 0;clip: rect(1px 1px 1px 1px);clip: rect(1px, 1px, 1px, 1px);height: 1px;margin: -1px;overflow: hidden;padding: 0;position: absolute;width: 1px;}#sk-container-id-10 div.sk-estimator {font-family: monospace;background-color: #f0f8ff;border: 1px dotted black;border-radius: 0.25em;box-sizing: border-box;margin-bottom: 0.5em;}#sk-container-id-10 div.sk-estimator:hover {background-color: #d4ebff;}#sk-container-id-10 div.sk-parallel-item::after {content: \"\";width: 100%;border-bottom: 1px solid gray;flex-grow: 1;}#sk-container-id-10 div.sk-label:hover label.sk-toggleable__label {background-color: #d4ebff;}#sk-container-id-10 div.sk-serial::before {content: \"\";position: absolute;border-left: 1px solid gray;box-sizing: border-box;top: 0;bottom: 0;left: 50%;z-index: 0;}#sk-container-id-10 div.sk-serial {display: flex;flex-direction: column;align-items: center;background-color: white;padding-right: 0.2em;padding-left: 0.2em;position: relative;}#sk-container-id-10 div.sk-item {position: relative;z-index: 1;}#sk-container-id-10 div.sk-parallel {display: flex;align-items: stretch;justify-content: center;background-color: white;position: relative;}#sk-container-id-10 div.sk-item::before, #sk-container-id-10 div.sk-parallel-item::before {content: \"\";position: absolute;border-left: 1px solid gray;box-sizing: border-box;top: 0;bottom: 0;left: 50%;z-index: -1;}#sk-container-id-10 div.sk-parallel-item {display: flex;flex-direction: column;z-index: 1;position: relative;background-color: white;}#sk-container-id-10 div.sk-parallel-item:first-child::after {align-self: flex-end;width: 50%;}#sk-container-id-10 div.sk-parallel-item:last-child::after {align-self: flex-start;width: 50%;}#sk-container-id-10 div.sk-parallel-item:only-child::after {width: 0;}#sk-container-id-10 div.sk-dashed-wrapped {border: 1px dashed gray;margin: 0 0.4em 0.5em 0.4em;box-sizing: border-box;padding-bottom: 0.4em;background-color: white;}#sk-container-id-10 div.sk-label label {font-family: monospace;font-weight: bold;display: inline-block;line-height: 1.2em;}#sk-container-id-10 div.sk-label-container {text-align: center;}#sk-container-id-10 div.sk-container {/* jupyter's `normalize.less` sets `[hidden] { display: none; }` but bootstrap.min.css set `[hidden] { display: none !important; }` so we also need the `!important` here to be able to override the default hidden behavior on the sphinx rendered scikit-learn.org. See: https://github.com/scikit-learn/scikit-learn/issues/21755 */display: inline-block !important;position: relative;}#sk-container-id-10 div.sk-text-repr-fallback {display: none;}</style><div id=\"sk-container-id-10\" class=\"sk-top-container\"><div class=\"sk-text-repr-fallback\"><pre>KMeans(n_clusters=6)</pre><b>In a Jupyter environment, please rerun this cell to show the HTML representation or trust the notebook. <br />On GitHub, the HTML representation is unable to render, please try loading this page with nbviewer.org.</b></div><div class=\"sk-container\" hidden><div class=\"sk-item\"><div class=\"sk-estimator sk-toggleable\"><input class=\"sk-toggleable__control sk-hidden--visually\" id=\"sk-estimator-id-10\" type=\"checkbox\" checked><label for=\"sk-estimator-id-10\" class=\"sk-toggleable__label sk-toggleable__label-arrow\">KMeans</label><div class=\"sk-toggleable__content\"><pre>KMeans(n_clusters=6)</pre></div></div></div></div></div>"
      ],
      "text/plain": [
       "KMeans(n_clusters=6)"
      ]
     },
     "execution_count": 168,
     "metadata": {},
     "output_type": "execute_result"
    }
   ],
   "source": [
    "kmeanModel = KMeans(n_clusters=6)\n",
    "kmeanModel.fit(X)\n"
   ]
  },
  {
   "cell_type": "code",
   "execution_count": 169,
   "metadata": {},
   "outputs": [],
   "source": [
    "merged_df['cluster'] = kmeanModel.labels_\n"
   ]
  },
  {
   "cell_type": "code",
   "execution_count": 170,
   "metadata": {},
   "outputs": [],
   "source": [
    "merged_df = merged_df.sort_values('conf_width')\n"
   ]
  },
  {
   "cell_type": "code",
   "execution_count": 171,
   "metadata": {},
   "outputs": [],
   "source": [
    "# Function to categorize ratings\n",
    "def categorize_rating(rating):\n",
    "    if rating < 2000:\n",
    "        return 'Below 2000'\n",
    "    else:\n",
    "        return str((rating // 50) * 50)\n",
    "\n",
    "# Apply function to create new categorical feature\n",
    "merged_df['rating_cat'] = merged_df['rating'].apply(categorize_rating)\n"
   ]
  },
  {
   "cell_type": "code",
   "execution_count": 177,
   "metadata": {},
   "outputs": [
    {
     "data": {
      "application/vnd.plotly.v1+json": {
       "config": {
        "plotlyServerURL": "https://plot.ly"
       },
       "data": [
        {
         "hovertemplate": "<b>%{hovertext}</b><br><br>rating_cat=2850<br>estimate=%{x}<br>cluster=%{y}<br>conf_width=%{z}<extra></extra>",
         "hovertext": [
          "Magnus Carlsen",
          "Hikaru Nakamura",
          "Alireza Firouzja"
         ],
         "legendgroup": "2850",
         "marker": {
          "color": "#636efa",
          "symbol": "circle"
         },
         "mode": "markers",
         "name": "2850",
         "scene": "scene",
         "showlegend": true,
         "type": "scatter3d",
         "x": [
          6.222222222222222,
          12.776859504132231,
          37.45762711864407
         ],
         "y": [
          5,
          5,
          5
         ],
         "z": [
          4.223611111111109,
          11.852685950413221,
          26.682203389830487
         ]
        },
        {
         "hovertemplate": "<b>%{hovertext}</b><br><br>rating_cat=2600<br>estimate=%{x}<br>cluster=%{y}<br>conf_width=%{z}<extra></extra>",
         "hovertext": [
          "Bogdan Daniel Deac",
          "Sergei Zhigalko",
          "Aleksandar Indjic",
          "Aleksandr Shimanov",
          "Vincent Keymer",
          "Rasmus Svane",
          "Matthias Bluebaum",
          "Daniel Naroditsky",
          "Etienne Bacrot",
          "Vahap Sanal",
          "Grigoriy Oparin",
          "Hrant Melkumyan",
          "Axel Bachmann"
         ],
         "legendgroup": "2600",
         "marker": {
          "color": "#EF553B",
          "symbol": "circle"
         },
         "mode": "markers",
         "name": "2600",
         "scene": "scene",
         "showlegend": true,
         "type": "scatter3d",
         "x": [
          17.810526315789474,
          30.1840490797546,
          36.06060606060606,
          37.10112359550562,
          22.28125,
          32.98888888888889,
          39.6144578313253,
          34.04615384615385,
          44.121212121212125,
          42.48571428571429,
          37.891304347826086,
          41.05555555555556,
          88.84848484848484
         ],
         "y": [
          2,
          2,
          2,
          2,
          2,
          2,
          2,
          2,
          2,
          2,
          2,
          2,
          2
         ],
         "z": [
          5.547894736842101,
          7.117177914110432,
          14.001262626262623,
          15.037359550561789,
          19.28125,
          19.514444444444425,
          26.446385542168674,
          26.464230769230753,
          29.459848484848457,
          32.83499999999998,
          33.439130434782584,
          35.667361111111106,
          42.61060606060606
         ]
        },
        {
         "hovertemplate": "<b>%{hovertext}</b><br><br>rating_cat=2750<br>estimate=%{x}<br>cluster=%{y}<br>conf_width=%{z}<extra></extra>",
         "hovertext": [
          "Wesley So",
          "Jan-Krzysztof Duda",
          "Daniil Dubov"
         ],
         "legendgroup": "2750",
         "marker": {
          "color": "#00cc96",
          "symbol": "circle"
         },
         "mode": "markers",
         "name": "2750",
         "scene": "scene",
         "showlegend": true,
         "type": "scatter3d",
         "x": [
          11.193548387096774,
          13.673469387755102,
          30.11904761904762
         ],
         "y": [
          1,
          1,
          1
         ],
         "z": [
          6.323387096774189,
          8.940816326530602,
          23.41994047619047
         ]
        },
        {
         "hovertemplate": "<b>%{hovertext}</b><br><br>rating_cat=2550<br>estimate=%{x}<br>cluster=%{y}<br>conf_width=%{z}<extra></extra>",
         "hovertext": [
          "Denis Lazavik",
          "Maksim Chigaev",
          "Krikor Sevag Mekhitarian",
          "Eric Hansen",
          "Tuan Minh Le",
          "Shamsiddin Vokhidov",
          "Baadur Jobava",
          "Vasif Durarbayli",
          "Renato Terry",
          "Dmitrij Kollars",
          "Aryan Tari",
          "Aram Hakobyan",
          "David Howell",
          "Conrad Holt",
          "Sanan Sjugirov",
          "Luca Moroni Jr"
         ],
         "legendgroup": "2550",
         "marker": {
          "color": "#ab63fa",
          "symbol": "circle"
         },
         "mode": "markers",
         "name": "2550",
         "scene": "scene",
         "showlegend": true,
         "type": "scatter3d",
         "x": [
          17.36231884057971,
          29.410526315789475,
          50.30882352941177,
          31.383333333333333,
          20.912280701754387,
          29.428571428571427,
          29.029411764705884,
          39.53061224489796,
          26.45098039215686,
          43.18,
          43.95652173913044,
          33.72093023255814,
          80.29729729729729,
          63.02173913043478,
          52.40909090909091,
          61.34375
         ],
         "y": [
          2,
          2,
          2,
          2,
          2,
          2,
          2,
          2,
          2,
          2,
          2,
          2,
          2,
          2,
          2,
          2
         ],
         "z": [
          7.23224637681159,
          10.44263157894737,
          12.736029411764704,
          13.419583333333325,
          13.949122807017542,
          19.500595238095237,
          22.516176470588235,
          23.164285714285715,
          23.902941176470588,
          29.842499999999987,
          30.660326086956484,
          33.30348837209302,
          34.67972972972973,
          37.78423913043478,
          41.68522727272725,
          45.53671874999998
         ]
        },
        {
         "hovertemplate": "<b>%{hovertext}</b><br><br>rating_cat=2650<br>estimate=%{x}<br>cluster=%{y}<br>conf_width=%{z}<extra></extra>",
         "hovertext": [
          "Gata Kamsky",
          "Raunak Sadhwani",
          "Maxim Matlakov"
         ],
         "legendgroup": "2650",
         "marker": {
          "color": "#FFA15A",
          "symbol": "circle"
         },
         "mode": "markers",
         "name": "2650",
         "scene": "scene",
         "showlegend": true,
         "type": "scatter3d",
         "x": [
          25.525974025974026,
          23.77777777777778,
          38.26829268292683
         ],
         "y": [
          1,
          1,
          1
         ],
         "z": [
          7.43538961038961,
          26.42152777777775,
          36.051829268292664
         ]
        },
        {
         "hovertemplate": "<b>%{hovertext}</b><br><br>rating_cat=2700<br>estimate=%{x}<br>cluster=%{y}<br>conf_width=%{z}<extra></extra>",
         "hovertext": [
          "Oleksandr Bortnyk",
          "Jose Eduardo Martinez Alcantara",
          "Alexander Grischuk",
          "Jeffery Xiong",
          "Vladimir Fedoseev"
         ],
         "legendgroup": "2700",
         "marker": {
          "color": "#19d3f3",
          "symbol": "circle"
         },
         "mode": "markers",
         "name": "2700",
         "scene": "scene",
         "showlegend": true,
         "type": "scatter3d",
         "x": [
          17.452554744525546,
          23.5748031496063,
          23.157894736842106,
          41.44927536231884,
          45.104166666666664
         ],
         "y": [
          1,
          1,
          1,
          1,
          1
         ],
         "z": [
          9.927919708029194,
          14.874409448818898,
          24.42171052631579,
          31.69999999999999,
          41.17291666666664
         ]
        },
        {
         "hovertemplate": "<b>%{hovertext}</b><br><br>rating_cat=2500<br>estimate=%{x}<br>cluster=%{y}<br>conf_width=%{z}<extra></extra>",
         "hovertext": [
          "Anton Demchenko",
          "Aman Hambleton",
          "Samvel Ter-Sahakyan",
          "David Paravyan",
          "Rudik Makarian",
          "Frederik Svane",
          "Vladimir Zakhartsov",
          "Vugar Rasulov"
         ],
         "legendgroup": "2500",
         "marker": {
          "color": "#FF6692",
          "symbol": "circle"
         },
         "mode": "markers",
         "name": "2500",
         "scene": "scene",
         "showlegend": true,
         "type": "scatter3d",
         "x": [
          38.36986301369863,
          67.98863636363636,
          32.970588235294116,
          32.14563106796116,
          53.145161290322584,
          55.38095238095238,
          97.07142857142857,
          85.36538461538461
         ],
         "y": [
          4,
          4,
          4,
          4,
          4,
          4,
          4,
          4
         ],
         "z": [
          11.891095890410952,
          15.284943181818178,
          15.44485294117646,
          21.099271844660187,
          29.195564516129032,
          32.316071428571405,
          34.81309523809523,
          42.55240384615384
         ]
        },
        {
         "hovertemplate": "<b>%{hovertext}</b><br><br>rating_cat=2200<br>estimate=%{x}<br>cluster=%{y}<br>conf_width=%{z}<extra></extra>",
         "hovertext": [
          "Wojciech Przybylski",
          "Zachary Tanenbaum",
          "Artin Ashraf"
         ],
         "legendgroup": "2200",
         "marker": {
          "color": "#B6E880",
          "symbol": "circle"
         },
         "mode": "markers",
         "name": "2200",
         "scene": "scene",
         "showlegend": true,
         "type": "scatter3d",
         "x": [
          98.02362204724409,
          68,
          53.361111111111114
         ],
         "y": [
          3,
          3,
          3
         ],
         "z": [
          12.638779527559052,
          13.681249999999999,
          24.779861111111096
         ]
        },
        {
         "hovertemplate": "<b>%{hovertext}</b><br><br>rating_cat=2400<br>estimate=%{x}<br>cluster=%{y}<br>conf_width=%{z}<extra></extra>",
         "hovertext": [
          "Zbigniew Pakleza",
          "Matvey Galchenko",
          "Arystanbek Urazayev",
          "Nikita Matinian",
          "Razvan Preotu",
          "Meri Arabidze",
          "Ivan Zemlyanskii",
          "Vuk Djordjevic"
         ],
         "legendgroup": "2400",
         "marker": {
          "color": "#FF97FF",
          "symbol": "circle"
         },
         "mode": "markers",
         "name": "2400",
         "scene": "scene",
         "showlegend": true,
         "type": "scatter3d",
         "x": [
          54.84552845528455,
          44.15094339622642,
          43.37096774193548,
          58.96341463414634,
          59.1,
          72.5,
          58.625,
          60.911764705882355
         ],
         "y": [
          0,
          0,
          0,
          0,
          0,
          0,
          0,
          0
         ],
         "z": [
          12.944105691056912,
          14.398113207547162,
          14.56653225806452,
          15.14664634146341,
          16.741999999999997,
          18.335576923076893,
          21.824553571428567,
          27.180147058823508
         ]
        },
        {
         "hovertemplate": "<b>%{hovertext}</b><br><br>rating_cat=2350<br>estimate=%{x}<br>cluster=%{y}<br>conf_width=%{z}<extra></extra>",
         "hovertext": [
          "Vasiliy Korchmar",
          "Alexandros Papasimakopoulos",
          "Polina Shuvalova",
          "Krzysztof Jakubowski",
          "Yahli Sokolovsky",
          "Ivan Yeletsky"
         ],
         "legendgroup": "2350",
         "marker": {
          "color": "#FECB52",
          "symbol": "circle"
         },
         "mode": "markers",
         "name": "2350",
         "scene": "scene",
         "showlegend": true,
         "type": "scatter3d",
         "x": [
          67.48113207547169,
          71.5,
          76.40677966101696,
          84.33333333333333,
          64.38709677419355,
          49.81818181818182
         ],
         "y": [
          0,
          0,
          0,
          0,
          0,
          0
         ],
         "z": [
          14.313915094339613,
          15.311734693877554,
          21.086440677966095,
          22.474305555555546,
          27.38870967741935,
          28.94090909090908
         ]
        },
        {
         "hovertemplate": "<b>%{hovertext}</b><br><br>rating_cat=2450<br>estimate=%{x}<br>cluster=%{y}<br>conf_width=%{z}<extra></extra>",
         "hovertext": [
          "Aleksandra Goryachkina",
          "Dennis Wagner",
          "Ihor Samunenkov",
          "Mihnea Costachi",
          "Alexandra Kosteniuk",
          "Mark Timmermans",
          "Mikhail Bryakin",
          "Xu Yi",
          "Mukhiddin Madaminov",
          "Jakub Kosakowski",
          "Jung Min Seo",
          "Leonardo Tristan",
          "Avital Boruchovsky",
          "pawel jaracz"
         ],
         "legendgroup": "2450",
         "marker": {
          "color": "#636efa",
          "symbol": "circle"
         },
         "mode": "markers",
         "name": "2450",
         "scene": "scene",
         "showlegend": true,
         "type": "scatter3d",
         "x": [
          67.21917808219177,
          66.66197183098592,
          65.24528301886792,
          61.38,
          63.77142857142857,
          50.516129032258064,
          61.859375,
          43.63636363636363,
          52.65853658536585,
          59.6764705882353,
          58.088235294117645,
          74.33333333333333,
          127.54838709677419,
          85.96774193548387
         ],
         "y": [
          4,
          4,
          4,
          4,
          4,
          4,
          4,
          4,
          4,
          4,
          4,
          4,
          4,
          4
         ],
         "z": [
          14.427397260273963,
          15.662676056338022,
          16.17264150943395,
          16.9625,
          17.10035714285715,
          18.258064516129032,
          18.37812499999999,
          19.52909090909091,
          28.03536585365849,
          28.855147058823526,
          29.29779411764705,
          35.26428571428571,
          37.104032258064464,
          42.09999999999998
         ]
        },
        {
         "hovertemplate": "<b>%{hovertext}</b><br><br>rating_cat=2150<br>estimate=%{x}<br>cluster=%{y}<br>conf_width=%{z}<extra></extra>",
         "hovertext": [
          "Tomasz Jaskolka"
         ],
         "legendgroup": "2150",
         "marker": {
          "color": "#EF553B",
          "symbol": "circle"
         },
         "mode": "markers",
         "name": "2150",
         "scene": "scene",
         "showlegend": true,
         "type": "scatter3d",
         "x": [
          115.30337078651685
         ],
         "y": [
          3
         ],
         "z": [
          15.90112359550561
         ]
        },
        {
         "hovertemplate": "<b>%{hovertext}</b><br><br>rating_cat=2300<br>estimate=%{x}<br>cluster=%{y}<br>conf_width=%{z}<extra></extra>",
         "hovertext": [
          "Olexiy Bilych",
          "Piotr Piesik",
          "Damian Lewtak",
          "Igor Bjelobrk"
         ],
         "legendgroup": "2300",
         "marker": {
          "color": "#00cc96",
          "symbol": "circle"
         },
         "mode": "markers",
         "name": "2300",
         "scene": "scene",
         "showlegend": true,
         "type": "scatter3d",
         "x": [
          54.075,
          87.22388059701493,
          72.9375,
          78.77083333333333
         ],
         "y": [
          0,
          0,
          0,
          0
         ],
         "z": [
          19.37687499999999,
          20.643656716417894,
          25.4375,
          28.396874999999994
         ]
        },
        {
         "hovertemplate": "<b>%{hovertext}</b><br><br>rating_cat=2250<br>estimate=%{x}<br>cluster=%{y}<br>conf_width=%{z}<extra></extra>",
         "hovertext": [
          "Alexei Gubajdullin",
          "Semetey Tologontegin"
         ],
         "legendgroup": "2250",
         "marker": {
          "color": "#ab63fa",
          "symbol": "circle"
         },
         "mode": "markers",
         "name": "2250",
         "scene": "scene",
         "showlegend": true,
         "type": "scatter3d",
         "x": [
          71.12068965517241,
          105.17021276595744
         ],
         "y": [
          3,
          3
         ],
         "z": [
          20.193103448275842,
          27.170744680851058
         ]
        },
        {
         "hovertemplate": "<b>%{hovertext}</b><br><br>rating_cat=2000<br>estimate=%{x}<br>cluster=%{y}<br>conf_width=%{z}<extra></extra>",
         "hovertext": [
          "Abtin Atakhan"
         ],
         "legendgroup": "2000",
         "marker": {
          "color": "#FFA15A",
          "symbol": "circle"
         },
         "mode": "markers",
         "name": "2000",
         "scene": "scene",
         "showlegend": true,
         "type": "scatter3d",
         "x": [
          72.1891891891892
         ],
         "y": [
          3
         ],
         "z": [
          24.410810810810794
         ]
        },
        {
         "hovertemplate": "<b>%{hovertext}</b><br><br>rating_cat=2800<br>estimate=%{x}<br>cluster=%{y}<br>conf_width=%{z}<extra></extra>",
         "hovertext": [
          "Fabiano Caruana"
         ],
         "legendgroup": "2800",
         "marker": {
          "color": "#19d3f3",
          "symbol": "circle"
         },
         "mode": "markers",
         "name": "2800",
         "scene": "scene",
         "showlegend": true,
         "type": "scatter3d",
         "x": [
          39.16129032258065
         ],
         "y": [
          5
         ],
         "z": [
          27.72903225806451
         ]
        }
       ],
       "layout": {
        "legend": {
         "title": {
          "text": "rating_cat"
         },
         "tracegroupgap": 0
        },
        "margin": {
         "t": 60
        },
        "scene": {
         "domain": {
          "x": [
           0,
           1
          ],
          "y": [
           0,
           1
          ]
         },
         "xaxis": {
          "title": {
           "text": "estimate"
          }
         },
         "yaxis": {
          "title": {
           "text": "cluster"
          }
         },
         "zaxis": {
          "title": {
           "text": "conf_width"
          }
         }
        },
        "template": {
         "data": {
          "bar": [
           {
            "error_x": {
             "color": "#2a3f5f"
            },
            "error_y": {
             "color": "#2a3f5f"
            },
            "marker": {
             "line": {
              "color": "#E5ECF6",
              "width": 0.5
             },
             "pattern": {
              "fillmode": "overlay",
              "size": 10,
              "solidity": 0.2
             }
            },
            "type": "bar"
           }
          ],
          "barpolar": [
           {
            "marker": {
             "line": {
              "color": "#E5ECF6",
              "width": 0.5
             },
             "pattern": {
              "fillmode": "overlay",
              "size": 10,
              "solidity": 0.2
             }
            },
            "type": "barpolar"
           }
          ],
          "carpet": [
           {
            "aaxis": {
             "endlinecolor": "#2a3f5f",
             "gridcolor": "white",
             "linecolor": "white",
             "minorgridcolor": "white",
             "startlinecolor": "#2a3f5f"
            },
            "baxis": {
             "endlinecolor": "#2a3f5f",
             "gridcolor": "white",
             "linecolor": "white",
             "minorgridcolor": "white",
             "startlinecolor": "#2a3f5f"
            },
            "type": "carpet"
           }
          ],
          "choropleth": [
           {
            "colorbar": {
             "outlinewidth": 0,
             "ticks": ""
            },
            "type": "choropleth"
           }
          ],
          "contour": [
           {
            "colorbar": {
             "outlinewidth": 0,
             "ticks": ""
            },
            "colorscale": [
             [
              0,
              "#0d0887"
             ],
             [
              0.1111111111111111,
              "#46039f"
             ],
             [
              0.2222222222222222,
              "#7201a8"
             ],
             [
              0.3333333333333333,
              "#9c179e"
             ],
             [
              0.4444444444444444,
              "#bd3786"
             ],
             [
              0.5555555555555556,
              "#d8576b"
             ],
             [
              0.6666666666666666,
              "#ed7953"
             ],
             [
              0.7777777777777778,
              "#fb9f3a"
             ],
             [
              0.8888888888888888,
              "#fdca26"
             ],
             [
              1,
              "#f0f921"
             ]
            ],
            "type": "contour"
           }
          ],
          "contourcarpet": [
           {
            "colorbar": {
             "outlinewidth": 0,
             "ticks": ""
            },
            "type": "contourcarpet"
           }
          ],
          "heatmap": [
           {
            "colorbar": {
             "outlinewidth": 0,
             "ticks": ""
            },
            "colorscale": [
             [
              0,
              "#0d0887"
             ],
             [
              0.1111111111111111,
              "#46039f"
             ],
             [
              0.2222222222222222,
              "#7201a8"
             ],
             [
              0.3333333333333333,
              "#9c179e"
             ],
             [
              0.4444444444444444,
              "#bd3786"
             ],
             [
              0.5555555555555556,
              "#d8576b"
             ],
             [
              0.6666666666666666,
              "#ed7953"
             ],
             [
              0.7777777777777778,
              "#fb9f3a"
             ],
             [
              0.8888888888888888,
              "#fdca26"
             ],
             [
              1,
              "#f0f921"
             ]
            ],
            "type": "heatmap"
           }
          ],
          "heatmapgl": [
           {
            "colorbar": {
             "outlinewidth": 0,
             "ticks": ""
            },
            "colorscale": [
             [
              0,
              "#0d0887"
             ],
             [
              0.1111111111111111,
              "#46039f"
             ],
             [
              0.2222222222222222,
              "#7201a8"
             ],
             [
              0.3333333333333333,
              "#9c179e"
             ],
             [
              0.4444444444444444,
              "#bd3786"
             ],
             [
              0.5555555555555556,
              "#d8576b"
             ],
             [
              0.6666666666666666,
              "#ed7953"
             ],
             [
              0.7777777777777778,
              "#fb9f3a"
             ],
             [
              0.8888888888888888,
              "#fdca26"
             ],
             [
              1,
              "#f0f921"
             ]
            ],
            "type": "heatmapgl"
           }
          ],
          "histogram": [
           {
            "marker": {
             "pattern": {
              "fillmode": "overlay",
              "size": 10,
              "solidity": 0.2
             }
            },
            "type": "histogram"
           }
          ],
          "histogram2d": [
           {
            "colorbar": {
             "outlinewidth": 0,
             "ticks": ""
            },
            "colorscale": [
             [
              0,
              "#0d0887"
             ],
             [
              0.1111111111111111,
              "#46039f"
             ],
             [
              0.2222222222222222,
              "#7201a8"
             ],
             [
              0.3333333333333333,
              "#9c179e"
             ],
             [
              0.4444444444444444,
              "#bd3786"
             ],
             [
              0.5555555555555556,
              "#d8576b"
             ],
             [
              0.6666666666666666,
              "#ed7953"
             ],
             [
              0.7777777777777778,
              "#fb9f3a"
             ],
             [
              0.8888888888888888,
              "#fdca26"
             ],
             [
              1,
              "#f0f921"
             ]
            ],
            "type": "histogram2d"
           }
          ],
          "histogram2dcontour": [
           {
            "colorbar": {
             "outlinewidth": 0,
             "ticks": ""
            },
            "colorscale": [
             [
              0,
              "#0d0887"
             ],
             [
              0.1111111111111111,
              "#46039f"
             ],
             [
              0.2222222222222222,
              "#7201a8"
             ],
             [
              0.3333333333333333,
              "#9c179e"
             ],
             [
              0.4444444444444444,
              "#bd3786"
             ],
             [
              0.5555555555555556,
              "#d8576b"
             ],
             [
              0.6666666666666666,
              "#ed7953"
             ],
             [
              0.7777777777777778,
              "#fb9f3a"
             ],
             [
              0.8888888888888888,
              "#fdca26"
             ],
             [
              1,
              "#f0f921"
             ]
            ],
            "type": "histogram2dcontour"
           }
          ],
          "mesh3d": [
           {
            "colorbar": {
             "outlinewidth": 0,
             "ticks": ""
            },
            "type": "mesh3d"
           }
          ],
          "parcoords": [
           {
            "line": {
             "colorbar": {
              "outlinewidth": 0,
              "ticks": ""
             }
            },
            "type": "parcoords"
           }
          ],
          "pie": [
           {
            "automargin": true,
            "type": "pie"
           }
          ],
          "scatter": [
           {
            "fillpattern": {
             "fillmode": "overlay",
             "size": 10,
             "solidity": 0.2
            },
            "type": "scatter"
           }
          ],
          "scatter3d": [
           {
            "line": {
             "colorbar": {
              "outlinewidth": 0,
              "ticks": ""
             }
            },
            "marker": {
             "colorbar": {
              "outlinewidth": 0,
              "ticks": ""
             }
            },
            "type": "scatter3d"
           }
          ],
          "scattercarpet": [
           {
            "marker": {
             "colorbar": {
              "outlinewidth": 0,
              "ticks": ""
             }
            },
            "type": "scattercarpet"
           }
          ],
          "scattergeo": [
           {
            "marker": {
             "colorbar": {
              "outlinewidth": 0,
              "ticks": ""
             }
            },
            "type": "scattergeo"
           }
          ],
          "scattergl": [
           {
            "marker": {
             "colorbar": {
              "outlinewidth": 0,
              "ticks": ""
             }
            },
            "type": "scattergl"
           }
          ],
          "scattermapbox": [
           {
            "marker": {
             "colorbar": {
              "outlinewidth": 0,
              "ticks": ""
             }
            },
            "type": "scattermapbox"
           }
          ],
          "scatterpolar": [
           {
            "marker": {
             "colorbar": {
              "outlinewidth": 0,
              "ticks": ""
             }
            },
            "type": "scatterpolar"
           }
          ],
          "scatterpolargl": [
           {
            "marker": {
             "colorbar": {
              "outlinewidth": 0,
              "ticks": ""
             }
            },
            "type": "scatterpolargl"
           }
          ],
          "scatterternary": [
           {
            "marker": {
             "colorbar": {
              "outlinewidth": 0,
              "ticks": ""
             }
            },
            "type": "scatterternary"
           }
          ],
          "surface": [
           {
            "colorbar": {
             "outlinewidth": 0,
             "ticks": ""
            },
            "colorscale": [
             [
              0,
              "#0d0887"
             ],
             [
              0.1111111111111111,
              "#46039f"
             ],
             [
              0.2222222222222222,
              "#7201a8"
             ],
             [
              0.3333333333333333,
              "#9c179e"
             ],
             [
              0.4444444444444444,
              "#bd3786"
             ],
             [
              0.5555555555555556,
              "#d8576b"
             ],
             [
              0.6666666666666666,
              "#ed7953"
             ],
             [
              0.7777777777777778,
              "#fb9f3a"
             ],
             [
              0.8888888888888888,
              "#fdca26"
             ],
             [
              1,
              "#f0f921"
             ]
            ],
            "type": "surface"
           }
          ],
          "table": [
           {
            "cells": {
             "fill": {
              "color": "#EBF0F8"
             },
             "line": {
              "color": "white"
             }
            },
            "header": {
             "fill": {
              "color": "#C8D4E3"
             },
             "line": {
              "color": "white"
             }
            },
            "type": "table"
           }
          ]
         },
         "layout": {
          "annotationdefaults": {
           "arrowcolor": "#2a3f5f",
           "arrowhead": 0,
           "arrowwidth": 1
          },
          "autotypenumbers": "strict",
          "coloraxis": {
           "colorbar": {
            "outlinewidth": 0,
            "ticks": ""
           }
          },
          "colorscale": {
           "diverging": [
            [
             0,
             "#8e0152"
            ],
            [
             0.1,
             "#c51b7d"
            ],
            [
             0.2,
             "#de77ae"
            ],
            [
             0.3,
             "#f1b6da"
            ],
            [
             0.4,
             "#fde0ef"
            ],
            [
             0.5,
             "#f7f7f7"
            ],
            [
             0.6,
             "#e6f5d0"
            ],
            [
             0.7,
             "#b8e186"
            ],
            [
             0.8,
             "#7fbc41"
            ],
            [
             0.9,
             "#4d9221"
            ],
            [
             1,
             "#276419"
            ]
           ],
           "sequential": [
            [
             0,
             "#0d0887"
            ],
            [
             0.1111111111111111,
             "#46039f"
            ],
            [
             0.2222222222222222,
             "#7201a8"
            ],
            [
             0.3333333333333333,
             "#9c179e"
            ],
            [
             0.4444444444444444,
             "#bd3786"
            ],
            [
             0.5555555555555556,
             "#d8576b"
            ],
            [
             0.6666666666666666,
             "#ed7953"
            ],
            [
             0.7777777777777778,
             "#fb9f3a"
            ],
            [
             0.8888888888888888,
             "#fdca26"
            ],
            [
             1,
             "#f0f921"
            ]
           ],
           "sequentialminus": [
            [
             0,
             "#0d0887"
            ],
            [
             0.1111111111111111,
             "#46039f"
            ],
            [
             0.2222222222222222,
             "#7201a8"
            ],
            [
             0.3333333333333333,
             "#9c179e"
            ],
            [
             0.4444444444444444,
             "#bd3786"
            ],
            [
             0.5555555555555556,
             "#d8576b"
            ],
            [
             0.6666666666666666,
             "#ed7953"
            ],
            [
             0.7777777777777778,
             "#fb9f3a"
            ],
            [
             0.8888888888888888,
             "#fdca26"
            ],
            [
             1,
             "#f0f921"
            ]
           ]
          },
          "colorway": [
           "#636efa",
           "#EF553B",
           "#00cc96",
           "#ab63fa",
           "#FFA15A",
           "#19d3f3",
           "#FF6692",
           "#B6E880",
           "#FF97FF",
           "#FECB52"
          ],
          "font": {
           "color": "#2a3f5f"
          },
          "geo": {
           "bgcolor": "white",
           "lakecolor": "white",
           "landcolor": "#E5ECF6",
           "showlakes": true,
           "showland": true,
           "subunitcolor": "white"
          },
          "hoverlabel": {
           "align": "left"
          },
          "hovermode": "closest",
          "mapbox": {
           "style": "light"
          },
          "paper_bgcolor": "white",
          "plot_bgcolor": "#E5ECF6",
          "polar": {
           "angularaxis": {
            "gridcolor": "white",
            "linecolor": "white",
            "ticks": ""
           },
           "bgcolor": "#E5ECF6",
           "radialaxis": {
            "gridcolor": "white",
            "linecolor": "white",
            "ticks": ""
           }
          },
          "scene": {
           "xaxis": {
            "backgroundcolor": "#E5ECF6",
            "gridcolor": "white",
            "gridwidth": 2,
            "linecolor": "white",
            "showbackground": true,
            "ticks": "",
            "zerolinecolor": "white"
           },
           "yaxis": {
            "backgroundcolor": "#E5ECF6",
            "gridcolor": "white",
            "gridwidth": 2,
            "linecolor": "white",
            "showbackground": true,
            "ticks": "",
            "zerolinecolor": "white"
           },
           "zaxis": {
            "backgroundcolor": "#E5ECF6",
            "gridcolor": "white",
            "gridwidth": 2,
            "linecolor": "white",
            "showbackground": true,
            "ticks": "",
            "zerolinecolor": "white"
           }
          },
          "shapedefaults": {
           "line": {
            "color": "#2a3f5f"
           }
          },
          "ternary": {
           "aaxis": {
            "gridcolor": "white",
            "linecolor": "white",
            "ticks": ""
           },
           "baxis": {
            "gridcolor": "white",
            "linecolor": "white",
            "ticks": ""
           },
           "bgcolor": "#E5ECF6",
           "caxis": {
            "gridcolor": "white",
            "linecolor": "white",
            "ticks": ""
           }
          },
          "title": {
           "x": 0.05
          },
          "xaxis": {
           "automargin": true,
           "gridcolor": "white",
           "linecolor": "white",
           "ticks": "",
           "title": {
            "standoff": 15
           },
           "zerolinecolor": "white",
           "zerolinewidth": 2
          },
          "yaxis": {
           "automargin": true,
           "gridcolor": "white",
           "linecolor": "white",
           "ticks": "",
           "title": {
            "standoff": 15
           },
           "zerolinecolor": "white",
           "zerolinewidth": 2
          }
         }
        }
       }
      }
     },
     "metadata": {},
     "output_type": "display_data"
    }
   ],
   "source": [
    "import plotly.express as px\n",
    "import pandas as pd\n",
    "\n",
    "\n",
    "# Creating a 3D scatter plot\n",
    "fig = px.scatter_3d(merged_df, x='estimate', y='cluster', z='conf_width', color='rating_cat',hover_name='name_y')\n",
    "\n",
    "# Showing the plot\n",
    "fig.show()\n"
   ]
  },
  {
   "cell_type": "code",
   "execution_count": 174,
   "metadata": {},
   "outputs": [
    {
     "data": {
      "text/html": [
       "<div>\n",
       "<style scoped>\n",
       "    .dataframe tbody tr th:only-of-type {\n",
       "        vertical-align: middle;\n",
       "    }\n",
       "\n",
       "    .dataframe tbody tr th {\n",
       "        vertical-align: top;\n",
       "    }\n",
       "\n",
       "    .dataframe thead th {\n",
       "        text-align: right;\n",
       "    }\n",
       "</style>\n",
       "<table border=\"1\" class=\"dataframe\">\n",
       "  <thead>\n",
       "    <tr style=\"text-align: right;\">\n",
       "      <th></th>\n",
       "      <th>num_games</th>\n",
       "      <th>estimate</th>\n",
       "      <th>min_int</th>\n",
       "      <th>max_int</th>\n",
       "      <th>name_y</th>\n",
       "      <th>rating</th>\n",
       "      <th>conf_width</th>\n",
       "      <th>cluster</th>\n",
       "      <th>rating_cat</th>\n",
       "      <th>new_cluster</th>\n",
       "    </tr>\n",
       "  </thead>\n",
       "  <tbody>\n",
       "    <tr>\n",
       "      <th>56</th>\n",
       "      <td>36</td>\n",
       "      <td>6.222222</td>\n",
       "      <td>4.304861</td>\n",
       "      <td>8.528472</td>\n",
       "      <td>Magnus Carlsen</td>\n",
       "      <td>2887</td>\n",
       "      <td>4.223611</td>\n",
       "      <td>5</td>\n",
       "      <td>2850</td>\n",
       "      <td>-1</td>\n",
       "    </tr>\n",
       "    <tr>\n",
       "      <th>16</th>\n",
       "      <td>95</td>\n",
       "      <td>17.810526</td>\n",
       "      <td>15.115789</td>\n",
       "      <td>20.663684</td>\n",
       "      <td>Bogdan Daniel Deac</td>\n",
       "      <td>2641</td>\n",
       "      <td>5.547895</td>\n",
       "      <td>2</td>\n",
       "      <td>2600</td>\n",
       "      <td>-1</td>\n",
       "    </tr>\n",
       "    <tr>\n",
       "      <th>38</th>\n",
       "      <td>31</td>\n",
       "      <td>11.193548</td>\n",
       "      <td>8.161290</td>\n",
       "      <td>14.484677</td>\n",
       "      <td>Wesley So</td>\n",
       "      <td>2760</td>\n",
       "      <td>6.323387</td>\n",
       "      <td>1</td>\n",
       "      <td>2750</td>\n",
       "      <td>-1</td>\n",
       "    </tr>\n",
       "    <tr>\n",
       "      <th>90</th>\n",
       "      <td>163</td>\n",
       "      <td>30.184049</td>\n",
       "      <td>26.754448</td>\n",
       "      <td>33.871626</td>\n",
       "      <td>Sergei Zhigalko</td>\n",
       "      <td>2616</td>\n",
       "      <td>7.117178</td>\n",
       "      <td>2</td>\n",
       "      <td>2600</td>\n",
       "      <td>-1</td>\n",
       "    </tr>\n",
       "    <tr>\n",
       "      <th>24</th>\n",
       "      <td>69</td>\n",
       "      <td>17.362319</td>\n",
       "      <td>13.956522</td>\n",
       "      <td>21.188768</td>\n",
       "      <td>Denis Lazavik</td>\n",
       "      <td>2560</td>\n",
       "      <td>7.232246</td>\n",
       "      <td>2</td>\n",
       "      <td>2550</td>\n",
       "      <td>-1</td>\n",
       "    </tr>\n",
       "    <tr>\n",
       "      <th>83</th>\n",
       "      <td>154</td>\n",
       "      <td>25.525974</td>\n",
       "      <td>21.934903</td>\n",
       "      <td>29.370292</td>\n",
       "      <td>Gata Kamsky</td>\n",
       "      <td>2660</td>\n",
       "      <td>7.435390</td>\n",
       "      <td>1</td>\n",
       "      <td>2650</td>\n",
       "      <td>-1</td>\n",
       "    </tr>\n",
       "    <tr>\n",
       "      <th>68</th>\n",
       "      <td>49</td>\n",
       "      <td>13.673469</td>\n",
       "      <td>9.591327</td>\n",
       "      <td>18.532143</td>\n",
       "      <td>Jan-Krzysztof Duda</td>\n",
       "      <td>2775</td>\n",
       "      <td>8.940816</td>\n",
       "      <td>1</td>\n",
       "      <td>2750</td>\n",
       "      <td>-1</td>\n",
       "    </tr>\n",
       "    <tr>\n",
       "      <th>65</th>\n",
       "      <td>137</td>\n",
       "      <td>17.452555</td>\n",
       "      <td>13.109124</td>\n",
       "      <td>23.037044</td>\n",
       "      <td>Oleksandr Bortnyk</td>\n",
       "      <td>2725</td>\n",
       "      <td>9.927920</td>\n",
       "      <td>1</td>\n",
       "      <td>2700</td>\n",
       "      <td>-1</td>\n",
       "    </tr>\n",
       "    <tr>\n",
       "      <th>32</th>\n",
       "      <td>95</td>\n",
       "      <td>29.410526</td>\n",
       "      <td>24.578421</td>\n",
       "      <td>35.021053</td>\n",
       "      <td>Maksim Chigaev</td>\n",
       "      <td>2561</td>\n",
       "      <td>10.442632</td>\n",
       "      <td>2</td>\n",
       "      <td>2550</td>\n",
       "      <td>-1</td>\n",
       "    </tr>\n",
       "    <tr>\n",
       "      <th>43</th>\n",
       "      <td>121</td>\n",
       "      <td>12.776860</td>\n",
       "      <td>7.527893</td>\n",
       "      <td>19.380579</td>\n",
       "      <td>Hikaru Nakamura</td>\n",
       "      <td>2874</td>\n",
       "      <td>11.852686</td>\n",
       "      <td>5</td>\n",
       "      <td>2850</td>\n",
       "      <td>-1</td>\n",
       "    </tr>\n",
       "    <tr>\n",
       "      <th>3</th>\n",
       "      <td>73</td>\n",
       "      <td>38.369863</td>\n",
       "      <td>32.684589</td>\n",
       "      <td>44.575685</td>\n",
       "      <td>Anton Demchenko</td>\n",
       "      <td>2545</td>\n",
       "      <td>11.891096</td>\n",
       "      <td>4</td>\n",
       "      <td>2500</td>\n",
       "      <td>-1</td>\n",
       "    </tr>\n",
       "    <tr>\n",
       "      <th>89</th>\n",
       "      <td>127</td>\n",
       "      <td>98.023622</td>\n",
       "      <td>91.763189</td>\n",
       "      <td>104.401969</td>\n",
       "      <td>Wojciech Przybylski</td>\n",
       "      <td>2228</td>\n",
       "      <td>12.638780</td>\n",
       "      <td>3</td>\n",
       "      <td>2200</td>\n",
       "      <td>-1</td>\n",
       "    </tr>\n",
       "    <tr>\n",
       "      <th>37</th>\n",
       "      <td>68</td>\n",
       "      <td>50.308824</td>\n",
       "      <td>44.146324</td>\n",
       "      <td>56.882353</td>\n",
       "      <td>Krikor Sevag Mekhitarian</td>\n",
       "      <td>2588</td>\n",
       "      <td>12.736029</td>\n",
       "      <td>2</td>\n",
       "      <td>2550</td>\n",
       "      <td>-1</td>\n",
       "    </tr>\n",
       "    <tr>\n",
       "      <th>17</th>\n",
       "      <td>123</td>\n",
       "      <td>54.845528</td>\n",
       "      <td>48.788211</td>\n",
       "      <td>61.732317</td>\n",
       "      <td>Zbigniew Pakleza</td>\n",
       "      <td>2410</td>\n",
       "      <td>12.944106</td>\n",
       "      <td>0</td>\n",
       "      <td>2400</td>\n",
       "      <td>-1</td>\n",
       "    </tr>\n",
       "    <tr>\n",
       "      <th>41</th>\n",
       "      <td>60</td>\n",
       "      <td>31.383333</td>\n",
       "      <td>25.315417</td>\n",
       "      <td>38.735000</td>\n",
       "      <td>Eric Hansen</td>\n",
       "      <td>2561</td>\n",
       "      <td>13.419583</td>\n",
       "      <td>2</td>\n",
       "      <td>2550</td>\n",
       "      <td>-1</td>\n",
       "    </tr>\n",
       "    <tr>\n",
       "      <th>12</th>\n",
       "      <td>100</td>\n",
       "      <td>68.000000</td>\n",
       "      <td>61.469000</td>\n",
       "      <td>75.150250</td>\n",
       "      <td>Zachary Tanenbaum</td>\n",
       "      <td>2235</td>\n",
       "      <td>13.681250</td>\n",
       "      <td>3</td>\n",
       "      <td>2200</td>\n",
       "      <td>-1</td>\n",
       "    </tr>\n",
       "    <tr>\n",
       "      <th>88</th>\n",
       "      <td>57</td>\n",
       "      <td>20.912281</td>\n",
       "      <td>14.366667</td>\n",
       "      <td>28.315789</td>\n",
       "      <td>Tuan Minh Le</td>\n",
       "      <td>2565</td>\n",
       "      <td>13.949123</td>\n",
       "      <td>2</td>\n",
       "      <td>2550</td>\n",
       "      <td>-1</td>\n",
       "    </tr>\n",
       "    <tr>\n",
       "      <th>13</th>\n",
       "      <td>99</td>\n",
       "      <td>36.060606</td>\n",
       "      <td>29.251768</td>\n",
       "      <td>43.253030</td>\n",
       "      <td>Aleksandar Indjic</td>\n",
       "      <td>2611</td>\n",
       "      <td>14.001263</td>\n",
       "      <td>2</td>\n",
       "      <td>2600</td>\n",
       "      <td>0</td>\n",
       "    </tr>\n",
       "    <tr>\n",
       "      <th>54</th>\n",
       "      <td>106</td>\n",
       "      <td>67.481132</td>\n",
       "      <td>60.592689</td>\n",
       "      <td>74.906604</td>\n",
       "      <td>Vasiliy Korchmar</td>\n",
       "      <td>2370</td>\n",
       "      <td>14.313915</td>\n",
       "      <td>0</td>\n",
       "      <td>2350</td>\n",
       "      <td>1</td>\n",
       "    </tr>\n",
       "    <tr>\n",
       "      <th>57</th>\n",
       "      <td>53</td>\n",
       "      <td>44.150943</td>\n",
       "      <td>37.377358</td>\n",
       "      <td>51.775472</td>\n",
       "      <td>Matvey Galchenko</td>\n",
       "      <td>2423</td>\n",
       "      <td>14.398113</td>\n",
       "      <td>0</td>\n",
       "      <td>2400</td>\n",
       "      <td>2</td>\n",
       "    </tr>\n",
       "    <tr>\n",
       "      <th>39</th>\n",
       "      <td>73</td>\n",
       "      <td>67.219178</td>\n",
       "      <td>60.149315</td>\n",
       "      <td>74.576712</td>\n",
       "      <td>Aleksandra Goryachkina</td>\n",
       "      <td>2471</td>\n",
       "      <td>14.427397</td>\n",
       "      <td>4</td>\n",
       "      <td>2450</td>\n",
       "      <td>3</td>\n",
       "    </tr>\n",
       "    <tr>\n",
       "      <th>6</th>\n",
       "      <td>62</td>\n",
       "      <td>43.370968</td>\n",
       "      <td>36.353226</td>\n",
       "      <td>50.919758</td>\n",
       "      <td>Arystanbek Urazayev</td>\n",
       "      <td>2433</td>\n",
       "      <td>14.566532</td>\n",
       "      <td>0</td>\n",
       "      <td>2400</td>\n",
       "      <td>2</td>\n",
       "    </tr>\n",
       "    <tr>\n",
       "      <th>51</th>\n",
       "      <td>127</td>\n",
       "      <td>23.574803</td>\n",
       "      <td>16.731890</td>\n",
       "      <td>31.606299</td>\n",
       "      <td>Jose Eduardo Martinez Alcantara</td>\n",
       "      <td>2703</td>\n",
       "      <td>14.874409</td>\n",
       "      <td>1</td>\n",
       "      <td>2700</td>\n",
       "      <td>-1</td>\n",
       "    </tr>\n",
       "    <tr>\n",
       "      <th>78</th>\n",
       "      <td>89</td>\n",
       "      <td>37.101124</td>\n",
       "      <td>30.120787</td>\n",
       "      <td>45.158146</td>\n",
       "      <td>Aleksandr Shimanov</td>\n",
       "      <td>2611</td>\n",
       "      <td>15.037360</td>\n",
       "      <td>2</td>\n",
       "      <td>2600</td>\n",
       "      <td>0</td>\n",
       "    </tr>\n",
       "    <tr>\n",
       "      <th>10</th>\n",
       "      <td>82</td>\n",
       "      <td>58.963415</td>\n",
       "      <td>52.000000</td>\n",
       "      <td>67.146646</td>\n",
       "      <td>Nikita Matinian</td>\n",
       "      <td>2407</td>\n",
       "      <td>15.146646</td>\n",
       "      <td>0</td>\n",
       "      <td>2400</td>\n",
       "      <td>-1</td>\n",
       "    </tr>\n",
       "    <tr>\n",
       "      <th>53</th>\n",
       "      <td>88</td>\n",
       "      <td>67.988636</td>\n",
       "      <td>60.283807</td>\n",
       "      <td>75.568750</td>\n",
       "      <td>Aman Hambleton</td>\n",
       "      <td>2511</td>\n",
       "      <td>15.284943</td>\n",
       "      <td>4</td>\n",
       "      <td>2500</td>\n",
       "      <td>-1</td>\n",
       "    </tr>\n",
       "    <tr>\n",
       "      <th>2</th>\n",
       "      <td>98</td>\n",
       "      <td>71.500000</td>\n",
       "      <td>64.250000</td>\n",
       "      <td>79.561735</td>\n",
       "      <td>Alexandros Papasimakopoulos</td>\n",
       "      <td>2358</td>\n",
       "      <td>15.311735</td>\n",
       "      <td>0</td>\n",
       "      <td>2350</td>\n",
       "      <td>1</td>\n",
       "    </tr>\n",
       "    <tr>\n",
       "      <th>72</th>\n",
       "      <td>34</td>\n",
       "      <td>32.970588</td>\n",
       "      <td>25.910294</td>\n",
       "      <td>41.355147</td>\n",
       "      <td>Samvel Ter-Sahakyan</td>\n",
       "      <td>2545</td>\n",
       "      <td>15.444853</td>\n",
       "      <td>4</td>\n",
       "      <td>2500</td>\n",
       "      <td>-1</td>\n",
       "    </tr>\n",
       "    <tr>\n",
       "      <th>19</th>\n",
       "      <td>71</td>\n",
       "      <td>66.661972</td>\n",
       "      <td>58.774296</td>\n",
       "      <td>74.436972</td>\n",
       "      <td>Dennis Wagner</td>\n",
       "      <td>2482</td>\n",
       "      <td>15.662676</td>\n",
       "      <td>4</td>\n",
       "      <td>2450</td>\n",
       "      <td>3</td>\n",
       "    </tr>\n",
       "    <tr>\n",
       "      <th>48</th>\n",
       "      <td>89</td>\n",
       "      <td>115.303371</td>\n",
       "      <td>107.706742</td>\n",
       "      <td>123.607865</td>\n",
       "      <td>Tomasz Jaskolka</td>\n",
       "      <td>2155</td>\n",
       "      <td>15.901124</td>\n",
       "      <td>3</td>\n",
       "      <td>2150</td>\n",
       "      <td>-1</td>\n",
       "    </tr>\n",
       "    <tr>\n",
       "      <th>80</th>\n",
       "      <td>53</td>\n",
       "      <td>65.245283</td>\n",
       "      <td>57.356132</td>\n",
       "      <td>73.528774</td>\n",
       "      <td>Ihor Samunenkov</td>\n",
       "      <td>2473</td>\n",
       "      <td>16.172642</td>\n",
       "      <td>4</td>\n",
       "      <td>2450</td>\n",
       "      <td>3</td>\n",
       "    </tr>\n",
       "    <tr>\n",
       "      <th>8</th>\n",
       "      <td>50</td>\n",
       "      <td>59.100000</td>\n",
       "      <td>51.119500</td>\n",
       "      <td>67.861500</td>\n",
       "      <td>Razvan Preotu</td>\n",
       "      <td>2434</td>\n",
       "      <td>16.742000</td>\n",
       "      <td>0</td>\n",
       "      <td>2400</td>\n",
       "      <td>3</td>\n",
       "    </tr>\n",
       "    <tr>\n",
       "      <th>47</th>\n",
       "      <td>50</td>\n",
       "      <td>61.380000</td>\n",
       "      <td>53.257500</td>\n",
       "      <td>70.220000</td>\n",
       "      <td>Mihnea Costachi</td>\n",
       "      <td>2456</td>\n",
       "      <td>16.962500</td>\n",
       "      <td>4</td>\n",
       "      <td>2450</td>\n",
       "      <td>3</td>\n",
       "    </tr>\n",
       "    <tr>\n",
       "      <th>20</th>\n",
       "      <td>70</td>\n",
       "      <td>63.771429</td>\n",
       "      <td>55.571071</td>\n",
       "      <td>72.671429</td>\n",
       "      <td>Alexandra Kosteniuk</td>\n",
       "      <td>2455</td>\n",
       "      <td>17.100357</td>\n",
       "      <td>4</td>\n",
       "      <td>2450</td>\n",
       "      <td>3</td>\n",
       "    </tr>\n",
       "    <tr>\n",
       "      <th>25</th>\n",
       "      <td>31</td>\n",
       "      <td>50.516129</td>\n",
       "      <td>42.096774</td>\n",
       "      <td>60.354839</td>\n",
       "      <td>Mark Timmermans</td>\n",
       "      <td>2460</td>\n",
       "      <td>18.258065</td>\n",
       "      <td>4</td>\n",
       "      <td>2450</td>\n",
       "      <td>-1</td>\n",
       "    </tr>\n",
       "    <tr>\n",
       "      <th>58</th>\n",
       "      <td>52</td>\n",
       "      <td>72.500000</td>\n",
       "      <td>63.613942</td>\n",
       "      <td>81.949519</td>\n",
       "      <td>Meri Arabidze</td>\n",
       "      <td>2417</td>\n",
       "      <td>18.335577</td>\n",
       "      <td>0</td>\n",
       "      <td>2400</td>\n",
       "      <td>-1</td>\n",
       "    </tr>\n",
       "    <tr>\n",
       "      <th>59</th>\n",
       "      <td>64</td>\n",
       "      <td>61.859375</td>\n",
       "      <td>53.187109</td>\n",
       "      <td>71.565234</td>\n",
       "      <td>Mikhail Bryakin</td>\n",
       "      <td>2459</td>\n",
       "      <td>18.378125</td>\n",
       "      <td>4</td>\n",
       "      <td>2450</td>\n",
       "      <td>3</td>\n",
       "    </tr>\n",
       "    <tr>\n",
       "      <th>84</th>\n",
       "      <td>32</td>\n",
       "      <td>22.281250</td>\n",
       "      <td>14.906250</td>\n",
       "      <td>34.187500</td>\n",
       "      <td>Vincent Keymer</td>\n",
       "      <td>2645</td>\n",
       "      <td>19.281250</td>\n",
       "      <td>2</td>\n",
       "      <td>2600</td>\n",
       "      <td>-1</td>\n",
       "    </tr>\n",
       "    <tr>\n",
       "      <th>64</th>\n",
       "      <td>40</td>\n",
       "      <td>54.075000</td>\n",
       "      <td>45.349375</td>\n",
       "      <td>64.726250</td>\n",
       "      <td>Olexiy Bilych</td>\n",
       "      <td>2341</td>\n",
       "      <td>19.376875</td>\n",
       "      <td>0</td>\n",
       "      <td>2300</td>\n",
       "      <td>-1</td>\n",
       "    </tr>\n",
       "    <tr>\n",
       "      <th>77</th>\n",
       "      <td>42</td>\n",
       "      <td>29.428571</td>\n",
       "      <td>20.618452</td>\n",
       "      <td>40.119048</td>\n",
       "      <td>Shamsiddin Vokhidov</td>\n",
       "      <td>2559</td>\n",
       "      <td>19.500595</td>\n",
       "      <td>2</td>\n",
       "      <td>2550</td>\n",
       "      <td>-1</td>\n",
       "    </tr>\n",
       "  </tbody>\n",
       "</table>\n",
       "</div>"
      ],
      "text/plain": [
       "    num_games    estimate     min_int     max_int  \\\n",
       "56         36    6.222222    4.304861    8.528472   \n",
       "16         95   17.810526   15.115789   20.663684   \n",
       "38         31   11.193548    8.161290   14.484677   \n",
       "90        163   30.184049   26.754448   33.871626   \n",
       "24         69   17.362319   13.956522   21.188768   \n",
       "83        154   25.525974   21.934903   29.370292   \n",
       "68         49   13.673469    9.591327   18.532143   \n",
       "65        137   17.452555   13.109124   23.037044   \n",
       "32         95   29.410526   24.578421   35.021053   \n",
       "43        121   12.776860    7.527893   19.380579   \n",
       "3          73   38.369863   32.684589   44.575685   \n",
       "89        127   98.023622   91.763189  104.401969   \n",
       "37         68   50.308824   44.146324   56.882353   \n",
       "17        123   54.845528   48.788211   61.732317   \n",
       "41         60   31.383333   25.315417   38.735000   \n",
       "12        100   68.000000   61.469000   75.150250   \n",
       "88         57   20.912281   14.366667   28.315789   \n",
       "13         99   36.060606   29.251768   43.253030   \n",
       "54        106   67.481132   60.592689   74.906604   \n",
       "57         53   44.150943   37.377358   51.775472   \n",
       "39         73   67.219178   60.149315   74.576712   \n",
       "6          62   43.370968   36.353226   50.919758   \n",
       "51        127   23.574803   16.731890   31.606299   \n",
       "78         89   37.101124   30.120787   45.158146   \n",
       "10         82   58.963415   52.000000   67.146646   \n",
       "53         88   67.988636   60.283807   75.568750   \n",
       "2          98   71.500000   64.250000   79.561735   \n",
       "72         34   32.970588   25.910294   41.355147   \n",
       "19         71   66.661972   58.774296   74.436972   \n",
       "48         89  115.303371  107.706742  123.607865   \n",
       "80         53   65.245283   57.356132   73.528774   \n",
       "8          50   59.100000   51.119500   67.861500   \n",
       "47         50   61.380000   53.257500   70.220000   \n",
       "20         70   63.771429   55.571071   72.671429   \n",
       "25         31   50.516129   42.096774   60.354839   \n",
       "58         52   72.500000   63.613942   81.949519   \n",
       "59         64   61.859375   53.187109   71.565234   \n",
       "84         32   22.281250   14.906250   34.187500   \n",
       "64         40   54.075000   45.349375   64.726250   \n",
       "77         42   29.428571   20.618452   40.119048   \n",
       "\n",
       "                             name_y  rating  conf_width  cluster rating_cat  \\\n",
       "56                   Magnus Carlsen    2887    4.223611        5       2850   \n",
       "16               Bogdan Daniel Deac    2641    5.547895        2       2600   \n",
       "38                        Wesley So    2760    6.323387        1       2750   \n",
       "90                  Sergei Zhigalko    2616    7.117178        2       2600   \n",
       "24                    Denis Lazavik    2560    7.232246        2       2550   \n",
       "83                      Gata Kamsky    2660    7.435390        1       2650   \n",
       "68               Jan-Krzysztof Duda    2775    8.940816        1       2750   \n",
       "65                Oleksandr Bortnyk    2725    9.927920        1       2700   \n",
       "32                   Maksim Chigaev    2561   10.442632        2       2550   \n",
       "43                  Hikaru Nakamura    2874   11.852686        5       2850   \n",
       "3                   Anton Demchenko    2545   11.891096        4       2500   \n",
       "89              Wojciech Przybylski    2228   12.638780        3       2200   \n",
       "37         Krikor Sevag Mekhitarian    2588   12.736029        2       2550   \n",
       "17                 Zbigniew Pakleza    2410   12.944106        0       2400   \n",
       "41                      Eric Hansen    2561   13.419583        2       2550   \n",
       "12                Zachary Tanenbaum    2235   13.681250        3       2200   \n",
       "88                     Tuan Minh Le    2565   13.949123        2       2550   \n",
       "13                Aleksandar Indjic    2611   14.001263        2       2600   \n",
       "54                 Vasiliy Korchmar    2370   14.313915        0       2350   \n",
       "57                 Matvey Galchenko    2423   14.398113        0       2400   \n",
       "39           Aleksandra Goryachkina    2471   14.427397        4       2450   \n",
       "6               Arystanbek Urazayev    2433   14.566532        0       2400   \n",
       "51  Jose Eduardo Martinez Alcantara    2703   14.874409        1       2700   \n",
       "78               Aleksandr Shimanov    2611   15.037360        2       2600   \n",
       "10                  Nikita Matinian    2407   15.146646        0       2400   \n",
       "53                   Aman Hambleton    2511   15.284943        4       2500   \n",
       "2       Alexandros Papasimakopoulos    2358   15.311735        0       2350   \n",
       "72              Samvel Ter-Sahakyan    2545   15.444853        4       2500   \n",
       "19                    Dennis Wagner    2482   15.662676        4       2450   \n",
       "48                  Tomasz Jaskolka    2155   15.901124        3       2150   \n",
       "80                  Ihor Samunenkov    2473   16.172642        4       2450   \n",
       "8                     Razvan Preotu    2434   16.742000        0       2400   \n",
       "47                  Mihnea Costachi    2456   16.962500        4       2450   \n",
       "20              Alexandra Kosteniuk    2455   17.100357        4       2450   \n",
       "25                  Mark Timmermans    2460   18.258065        4       2450   \n",
       "58                    Meri Arabidze    2417   18.335577        0       2400   \n",
       "59                  Mikhail Bryakin    2459   18.378125        4       2450   \n",
       "84                   Vincent Keymer    2645   19.281250        2       2600   \n",
       "64                    Olexiy Bilych    2341   19.376875        0       2300   \n",
       "77              Shamsiddin Vokhidov    2559   19.500595        2       2550   \n",
       "\n",
       "    new_cluster  \n",
       "56           -1  \n",
       "16           -1  \n",
       "38           -1  \n",
       "90           -1  \n",
       "24           -1  \n",
       "83           -1  \n",
       "68           -1  \n",
       "65           -1  \n",
       "32           -1  \n",
       "43           -1  \n",
       "3            -1  \n",
       "89           -1  \n",
       "37           -1  \n",
       "17           -1  \n",
       "41           -1  \n",
       "12           -1  \n",
       "88           -1  \n",
       "13            0  \n",
       "54            1  \n",
       "57            2  \n",
       "39            3  \n",
       "6             2  \n",
       "51           -1  \n",
       "78            0  \n",
       "10           -1  \n",
       "53           -1  \n",
       "2             1  \n",
       "72           -1  \n",
       "19            3  \n",
       "48           -1  \n",
       "80            3  \n",
       "8             3  \n",
       "47            3  \n",
       "20            3  \n",
       "25           -1  \n",
       "58           -1  \n",
       "59            3  \n",
       "84           -1  \n",
       "64           -1  \n",
       "77           -1  "
      ]
     },
     "execution_count": 174,
     "metadata": {},
     "output_type": "execute_result"
    }
   ],
   "source": [
    "merged_df.head(40)\n"
   ]
  },
  {
   "cell_type": "code",
   "execution_count": null,
   "metadata": {},
   "outputs": [],
   "source": []
  },
  {
   "cell_type": "code",
   "execution_count": null,
   "metadata": {},
   "outputs": [],
   "source": []
  }
 ],
 "metadata": {
  "kernelspec": {
   "display_name": "lewagon",
   "language": "python",
   "name": "python3"
  },
  "language_info": {
   "codemirror_mode": {
    "name": "ipython",
    "version": 3
   },
   "file_extension": ".py",
   "mimetype": "text/x-python",
   "name": "python",
   "nbconvert_exporter": "python",
   "pygments_lexer": "ipython3",
   "version": "3.10.6"
  }
 },
 "nbformat": 4,
 "nbformat_minor": 2
}
